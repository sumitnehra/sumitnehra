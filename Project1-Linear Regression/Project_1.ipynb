{
 "cells": [
  {
   "cell_type": "code",
   "execution_count": 1,
   "id": "71d7579e",
   "metadata": {},
   "outputs": [],
   "source": [
    "import pandas as pd\n",
    "import numpy as np\n",
    "import matplotlib.pyplot as plt\n",
    "import matplotlib as mat\n",
    "import seaborn as sns\n",
    "from tabulate import tabulate"
   ]
  },
  {
   "cell_type": "code",
   "execution_count": 2,
   "id": "a33b53ce",
   "metadata": {},
   "outputs": [],
   "source": [
    "from sklearn.datasets import make_regression\n",
    "from sklearn.model_selection import train_test_split\n",
    "from sklearn.linear_model import LinearRegression\n",
    "from sklearn.metrics import mean_squared_error\n",
    "from sklearn.metrics import mean_absolute_error\n",
    "\n",
    "from sklearn.metrics import r2_score\n",
    "from sklearn.tree import DecisionTreeRegressor\n",
    "from sklearn import metrics\n",
    "from sklearn import tree"
   ]
  },
  {
   "cell_type": "code",
   "execution_count": 3,
   "id": "2641f904",
   "metadata": {},
   "outputs": [],
   "source": [
    "df=pd.read_csv(\"insurance.csv\")"
   ]
  },
  {
   "cell_type": "code",
   "execution_count": 4,
   "id": "1246bd20",
   "metadata": {},
   "outputs": [
    {
     "data": {
      "text/html": [
       "<div>\n",
       "<style scoped>\n",
       "    .dataframe tbody tr th:only-of-type {\n",
       "        vertical-align: middle;\n",
       "    }\n",
       "\n",
       "    .dataframe tbody tr th {\n",
       "        vertical-align: top;\n",
       "    }\n",
       "\n",
       "    .dataframe thead th {\n",
       "        text-align: right;\n",
       "    }\n",
       "</style>\n",
       "<table border=\"1\" class=\"dataframe\">\n",
       "  <thead>\n",
       "    <tr style=\"text-align: right;\">\n",
       "      <th></th>\n",
       "      <th>age</th>\n",
       "      <th>sex</th>\n",
       "      <th>bmi</th>\n",
       "      <th>classif</th>\n",
       "      <th>children</th>\n",
       "      <th>smoker</th>\n",
       "      <th>region</th>\n",
       "      <th>charges</th>\n",
       "    </tr>\n",
       "  </thead>\n",
       "  <tbody>\n",
       "    <tr>\n",
       "      <th>0</th>\n",
       "      <td>19</td>\n",
       "      <td>female</td>\n",
       "      <td>27.900</td>\n",
       "      <td>PREO</td>\n",
       "      <td>0</td>\n",
       "      <td>yes</td>\n",
       "      <td>southwest</td>\n",
       "      <td>16884.92400</td>\n",
       "    </tr>\n",
       "    <tr>\n",
       "      <th>1</th>\n",
       "      <td>18</td>\n",
       "      <td>male</td>\n",
       "      <td>33.770</td>\n",
       "      <td>OB1</td>\n",
       "      <td>1</td>\n",
       "      <td>no</td>\n",
       "      <td>southeast</td>\n",
       "      <td>1725.55230</td>\n",
       "    </tr>\n",
       "    <tr>\n",
       "      <th>2</th>\n",
       "      <td>28</td>\n",
       "      <td>male</td>\n",
       "      <td>33.000</td>\n",
       "      <td>OB1</td>\n",
       "      <td>3</td>\n",
       "      <td>no</td>\n",
       "      <td>southeast</td>\n",
       "      <td>4449.46200</td>\n",
       "    </tr>\n",
       "    <tr>\n",
       "      <th>3</th>\n",
       "      <td>0</td>\n",
       "      <td>male</td>\n",
       "      <td>22.705</td>\n",
       "      <td>N</td>\n",
       "      <td>0</td>\n",
       "      <td>no</td>\n",
       "      <td>northwest</td>\n",
       "      <td>21984.47061</td>\n",
       "    </tr>\n",
       "    <tr>\n",
       "      <th>4</th>\n",
       "      <td>32</td>\n",
       "      <td>male</td>\n",
       "      <td>28.880</td>\n",
       "      <td>PREO</td>\n",
       "      <td>0</td>\n",
       "      <td>no</td>\n",
       "      <td>northwest</td>\n",
       "      <td>3866.85520</td>\n",
       "    </tr>\n",
       "  </tbody>\n",
       "</table>\n",
       "</div>"
      ],
      "text/plain": [
       "   age     sex     bmi classif  children smoker     region      charges\n",
       "0   19  female  27.900    PREO         0    yes  southwest  16884.92400\n",
       "1   18    male  33.770     OB1         1     no  southeast   1725.55230\n",
       "2   28    male  33.000     OB1         3     no  southeast   4449.46200\n",
       "3    0    male  22.705       N         0     no  northwest  21984.47061\n",
       "4   32    male  28.880    PREO         0     no  northwest   3866.85520"
      ]
     },
     "execution_count": 4,
     "metadata": {},
     "output_type": "execute_result"
    }
   ],
   "source": [
    "df.head()"
   ]
  },
  {
   "cell_type": "markdown",
   "id": "8344dca8",
   "metadata": {},
   "source": [
    "BMI\tNutritional status\n",
    "Below 18.5\tUnderweight\n",
    "18.5–24.9\tNormal weight\n",
    "25.0–29.9\tPre-obesity\n",
    "30.0–34.9\tObesity class I\n",
    "35.0–39.9\tObesity class II\n",
    "Above 40\tObesity class III"
   ]
  },
  {
   "cell_type": "code",
   "execution_count": 5,
   "id": "31b2bb8d",
   "metadata": {
    "scrolled": true
   },
   "outputs": [
    {
     "data": {
      "text/plain": [
       "age           int64\n",
       "sex          object\n",
       "bmi         float64\n",
       "classif      object\n",
       "children      int64\n",
       "smoker       object\n",
       "region       object\n",
       "charges     float64\n",
       "dtype: object"
      ]
     },
     "execution_count": 5,
     "metadata": {},
     "output_type": "execute_result"
    }
   ],
   "source": [
    "df.dtypes"
   ]
  },
  {
   "cell_type": "code",
   "execution_count": 6,
   "id": "81145677",
   "metadata": {},
   "outputs": [
    {
     "data": {
      "text/plain": [
       "(1338, 8)"
      ]
     },
     "execution_count": 6,
     "metadata": {},
     "output_type": "execute_result"
    }
   ],
   "source": [
    "df.shape"
   ]
  },
  {
   "cell_type": "code",
   "execution_count": 7,
   "id": "18b7a907",
   "metadata": {},
   "outputs": [
    {
     "data": {
      "text/plain": [
       "Index(['age', 'sex', 'bmi', 'classif', 'children', 'smoker', 'region',\n",
       "       'charges'],\n",
       "      dtype='object')"
      ]
     },
     "execution_count": 7,
     "metadata": {},
     "output_type": "execute_result"
    }
   ],
   "source": [
    "df.columns"
   ]
  },
  {
   "cell_type": "code",
   "execution_count": 8,
   "id": "5533a8a3",
   "metadata": {},
   "outputs": [
    {
     "data": {
      "text/html": [
       "<div>\n",
       "<style scoped>\n",
       "    .dataframe tbody tr th:only-of-type {\n",
       "        vertical-align: middle;\n",
       "    }\n",
       "\n",
       "    .dataframe tbody tr th {\n",
       "        vertical-align: top;\n",
       "    }\n",
       "\n",
       "    .dataframe thead th {\n",
       "        text-align: right;\n",
       "    }\n",
       "</style>\n",
       "<table border=\"1\" class=\"dataframe\">\n",
       "  <thead>\n",
       "    <tr style=\"text-align: right;\">\n",
       "      <th></th>\n",
       "      <th>age</th>\n",
       "      <th>bmi</th>\n",
       "      <th>children</th>\n",
       "      <th>charges</th>\n",
       "    </tr>\n",
       "  </thead>\n",
       "  <tbody>\n",
       "    <tr>\n",
       "      <th>count</th>\n",
       "      <td>1338.000000</td>\n",
       "      <td>1338.000000</td>\n",
       "      <td>1338.000000</td>\n",
       "      <td>1338.000000</td>\n",
       "    </tr>\n",
       "    <tr>\n",
       "      <th>mean</th>\n",
       "      <td>39.133782</td>\n",
       "      <td>30.663397</td>\n",
       "      <td>1.094918</td>\n",
       "      <td>13270.422265</td>\n",
       "    </tr>\n",
       "    <tr>\n",
       "      <th>std</th>\n",
       "      <td>14.958658</td>\n",
       "      <td>6.098187</td>\n",
       "      <td>1.205493</td>\n",
       "      <td>12110.011237</td>\n",
       "    </tr>\n",
       "    <tr>\n",
       "      <th>min</th>\n",
       "      <td>-58.000000</td>\n",
       "      <td>15.960000</td>\n",
       "      <td>0.000000</td>\n",
       "      <td>1121.873900</td>\n",
       "    </tr>\n",
       "    <tr>\n",
       "      <th>50%</th>\n",
       "      <td>39.000000</td>\n",
       "      <td>30.400000</td>\n",
       "      <td>1.000000</td>\n",
       "      <td>9382.033000</td>\n",
       "    </tr>\n",
       "    <tr>\n",
       "      <th>80%</th>\n",
       "      <td>53.600000</td>\n",
       "      <td>35.860000</td>\n",
       "      <td>2.000000</td>\n",
       "      <td>20260.626406</td>\n",
       "    </tr>\n",
       "    <tr>\n",
       "      <th>99%</th>\n",
       "      <td>64.000000</td>\n",
       "      <td>46.407900</td>\n",
       "      <td>5.000000</td>\n",
       "      <td>48537.480726</td>\n",
       "    </tr>\n",
       "    <tr>\n",
       "      <th>max</th>\n",
       "      <td>190.000000</td>\n",
       "      <td>53.130000</td>\n",
       "      <td>5.000000</td>\n",
       "      <td>63770.428010</td>\n",
       "    </tr>\n",
       "  </tbody>\n",
       "</table>\n",
       "</div>"
      ],
      "text/plain": [
       "               age          bmi     children       charges\n",
       "count  1338.000000  1338.000000  1338.000000   1338.000000\n",
       "mean     39.133782    30.663397     1.094918  13270.422265\n",
       "std      14.958658     6.098187     1.205493  12110.011237\n",
       "min     -58.000000    15.960000     0.000000   1121.873900\n",
       "50%      39.000000    30.400000     1.000000   9382.033000\n",
       "80%      53.600000    35.860000     2.000000  20260.626406\n",
       "99%      64.000000    46.407900     5.000000  48537.480726\n",
       "max     190.000000    53.130000     5.000000  63770.428010"
      ]
     },
     "execution_count": 8,
     "metadata": {},
     "output_type": "execute_result"
    }
   ],
   "source": [
    "df.describe([0.5,0.8,0.99])"
   ]
  },
  {
   "cell_type": "code",
   "execution_count": 9,
   "id": "006d7e0b",
   "metadata": {},
   "outputs": [
    {
     "name": "stdout",
     "output_type": "stream",
     "text": [
      "Size of dataframe before drop_duplicates (1338, 8)\n",
      "Size of dataframe after drop_duplicates (1337, 8)\n"
     ]
    }
   ],
   "source": [
    "#deleting duplicates\n",
    "print('Size of dataframe before drop_duplicates', df.shape)\n",
    "\n",
    "df.drop_duplicates(inplace= True)\n",
    "\n",
    "print('Size of dataframe after drop_duplicates', df.shape)"
   ]
  },
  {
   "cell_type": "code",
   "execution_count": 10,
   "id": "3dd3555d",
   "metadata": {},
   "outputs": [
    {
     "data": {
      "text/plain": [
       "age         0\n",
       "sex         0\n",
       "bmi         0\n",
       "classif     8\n",
       "children    0\n",
       "smoker      0\n",
       "region      0\n",
       "charges     0\n",
       "dtype: int64"
      ]
     },
     "execution_count": 10,
     "metadata": {},
     "output_type": "execute_result"
    }
   ],
   "source": [
    "df.isnull().sum()"
   ]
  },
  {
   "cell_type": "code",
   "execution_count": 11,
   "id": "8931a5a0",
   "metadata": {},
   "outputs": [
    {
     "data": {
      "text/html": [
       "<div>\n",
       "<style scoped>\n",
       "    .dataframe tbody tr th:only-of-type {\n",
       "        vertical-align: middle;\n",
       "    }\n",
       "\n",
       "    .dataframe tbody tr th {\n",
       "        vertical-align: top;\n",
       "    }\n",
       "\n",
       "    .dataframe thead th {\n",
       "        text-align: right;\n",
       "    }\n",
       "</style>\n",
       "<table border=\"1\" class=\"dataframe\">\n",
       "  <thead>\n",
       "    <tr style=\"text-align: right;\">\n",
       "      <th></th>\n",
       "      <th>Total</th>\n",
       "      <th>Percent</th>\n",
       "    </tr>\n",
       "  </thead>\n",
       "  <tbody>\n",
       "    <tr>\n",
       "      <th>classif</th>\n",
       "      <td>8</td>\n",
       "      <td>0.005984</td>\n",
       "    </tr>\n",
       "    <tr>\n",
       "      <th>age</th>\n",
       "      <td>0</td>\n",
       "      <td>0.000000</td>\n",
       "    </tr>\n",
       "    <tr>\n",
       "      <th>sex</th>\n",
       "      <td>0</td>\n",
       "      <td>0.000000</td>\n",
       "    </tr>\n",
       "    <tr>\n",
       "      <th>bmi</th>\n",
       "      <td>0</td>\n",
       "      <td>0.000000</td>\n",
       "    </tr>\n",
       "    <tr>\n",
       "      <th>children</th>\n",
       "      <td>0</td>\n",
       "      <td>0.000000</td>\n",
       "    </tr>\n",
       "    <tr>\n",
       "      <th>smoker</th>\n",
       "      <td>0</td>\n",
       "      <td>0.000000</td>\n",
       "    </tr>\n",
       "    <tr>\n",
       "      <th>region</th>\n",
       "      <td>0</td>\n",
       "      <td>0.000000</td>\n",
       "    </tr>\n",
       "    <tr>\n",
       "      <th>charges</th>\n",
       "      <td>0</td>\n",
       "      <td>0.000000</td>\n",
       "    </tr>\n",
       "  </tbody>\n",
       "</table>\n",
       "</div>"
      ],
      "text/plain": [
       "          Total   Percent\n",
       "classif       8  0.005984\n",
       "age           0  0.000000\n",
       "sex           0  0.000000\n",
       "bmi           0  0.000000\n",
       "children      0  0.000000\n",
       "smoker        0  0.000000\n",
       "region        0  0.000000\n",
       "charges       0  0.000000"
      ]
     },
     "execution_count": 11,
     "metadata": {},
     "output_type": "execute_result"
    }
   ],
   "source": [
    "#missing data\n",
    "total = df.isnull().sum().sort_values(ascending=False)\n",
    "percent = (df.isnull().sum()/df.isnull().count()).sort_values(ascending=False)\n",
    "missing_data = pd.concat([total, percent], axis=1, keys=['Total', 'Percent'])\n",
    "missing_data.head(20)"
   ]
  },
  {
   "cell_type": "code",
   "execution_count": 12,
   "id": "0438daf1",
   "metadata": {},
   "outputs": [
    {
     "name": "stdout",
     "output_type": "stream",
     "text": [
      "[15, 74, 128, 173, 559, 671, 839, 1331]\n"
     ]
    }
   ],
   "source": [
    "rows = [index for index, row in df.iterrows() if row.isnull().any()]\n",
    "\n",
    "print(rows)"
   ]
  },
  {
   "cell_type": "code",
   "execution_count": 13,
   "id": "ac300393",
   "metadata": {},
   "outputs": [],
   "source": [
    "index=[15, 74, 128, 173, 559, 671, 839, 1331]"
   ]
  },
  {
   "cell_type": "code",
   "execution_count": 14,
   "id": "47f43785",
   "metadata": {},
   "outputs": [
    {
     "name": "stdout",
     "output_type": "stream",
     "text": [
      "[15, 74, 128, 173, 559, 671, 839, 1331]\n"
     ]
    }
   ],
   "source": [
    "rows= [index for index, row in df.iterrows() if row.isnull().any()]\n",
    "\n",
    "print(rows)"
   ]
  },
  {
   "cell_type": "code",
   "execution_count": 15,
   "id": "10ddf369",
   "metadata": {},
   "outputs": [],
   "source": [
    "for i in rows:\n",
    "    if(int(df.iloc[i]['bmi'])<18):\n",
    "        df.at[i,'classif']=\"UW\"\n",
    "        \n",
    "    elif(int(df.iloc[i]['bmi']) in range(18,25)):\n",
    "        df.at[i,'classif']=\"N\"\n",
    "        \n",
    "    elif(int(df.iloc[i]['bmi'])in range(25,30)):\n",
    "        df.at[i,'classif']=\"PREO\"\n",
    "        \n",
    "    elif(int(df.iloc[i]['bmi']) in range(30,35)):\n",
    "        df.at[i,'classif']=\"OB1\"\n",
    "        \n",
    "    elif(int(df.iloc[i]['bmi'])in range(35,40)):\n",
    "        df.at[i,'classif']=\"OB2\"\n",
    "        \n",
    "    elif(int(df.iloc[i]['bmi'])>40):\n",
    "        df.at[i,'classif']=\"OB3\""
   ]
  },
  {
   "cell_type": "code",
   "execution_count": 16,
   "id": "21c6f0dc",
   "metadata": {},
   "outputs": [
    {
     "name": "stdout",
     "output_type": "stream",
     "text": [
      "N\n",
      "PREO\n",
      "UW\n",
      "OB1\n",
      "OB2\n",
      "PREO\n",
      "OB1\n",
      "OB3\n"
     ]
    }
   ],
   "source": [
    "for i in rows:\n",
    "    print(df.iloc[i]['classif'])"
   ]
  },
  {
   "cell_type": "markdown",
   "id": "80013e2a",
   "metadata": {},
   "source": [
    "## Performing EDA"
   ]
  },
  {
   "cell_type": "markdown",
   "id": "7bffea69",
   "metadata": {},
   "source": [
    "### Separating categorical and numerical columns"
   ]
  },
  {
   "cell_type": "code",
   "execution_count": 17,
   "id": "82c49c1c",
   "metadata": {},
   "outputs": [
    {
     "name": "stdout",
     "output_type": "stream",
     "text": [
      "categorical    continuous\n",
      "-------------  ------------\n",
      "age            bmi\n",
      "sex            charges\n",
      "classif\n",
      "children\n",
      "smoker\n",
      "region\n",
      "continuous:- ['bmi', 'charges', 'age']\n",
      "categorical:- ['sex', 'classif', 'children', 'smoker', 'region']\n"
     ]
    }
   ],
   "source": [
    "def separate_data_types(df):\n",
    "    categorical=[]\n",
    "    continuous=[]\n",
    "    for column in df.columns:\n",
    "        if df[column].nunique()<100:\n",
    "            categorical.append(column)\n",
    "        else:\n",
    "            continuous.append(column)\n",
    "    return categorical,continuous\n",
    "categorical,continuous=separate_data_types(df)\n",
    "from tabulate import tabulate\n",
    "table=[categorical,continuous]\n",
    "print(tabulate({\"categorical\":categorical,\n",
    "                \"continuous\":continuous},headers=[\"categorical\",\"continuous\"]))\n",
    "\n",
    "categorical.remove('age')\n",
    "continuous.append('age')\n",
    "\n",
    "print(\"continuous:-\",continuous)\n",
    "print(\"categorical:-\",categorical)"
   ]
  },
  {
   "cell_type": "code",
   "execution_count": 18,
   "id": "705d5592",
   "metadata": {},
   "outputs": [],
   "source": [
    "def myOutliers(df,col):\n",
    "    Q3=np.quantile(df[col],0.75)\n",
    "    Q1=np.quantile(df[col],0.25)\n",
    "    \n",
    "    IQR=Q3-Q1\n",
    "    \n",
    "    global mylist\n",
    "    global my_outlier_df\n",
    "    \n",
    "    lower_range=Q1-1.5*IQR\n",
    "    upper_range=Q3+1.5*IQR\n",
    "    \n",
    "    print(\"The lower range of\",col,\"is\",lower_range)\n",
    "    print(\"The upper range of\",col,\"is\",upper_range)\n",
    "    \n",
    "    mylist=[x for x in df[col] if ((x<lower_range) | (x>upper_range))]\n",
    "    print(\"total outlier in\",col,\"are\",len(mylist))\n",
    "    my_outlier_df=df.loc[df[col].isin(mylist)]\n",
    "k=['age','bmi','children','charges']"
   ]
  },
  {
   "cell_type": "code",
   "execution_count": 19,
   "id": "3f880596",
   "metadata": {
    "scrolled": true
   },
   "outputs": [
    {
     "name": "stdout",
     "output_type": "stream",
     "text": [
      "i is age\n",
      "The lower range of age is -11.5\n",
      "The upper range of age is 88.5\n",
      "total outlier in age are 2\n",
      "*****************\n",
      "i is bmi\n",
      "The lower range of bmi is 13.674999999999994\n",
      "The upper range of bmi is 47.31500000000001\n",
      "total outlier in bmi are 9\n",
      "*****************\n",
      "i is children\n",
      "The lower range of children is -3.0\n",
      "The upper range of children is 5.0\n",
      "total outlier in children are 0\n",
      "*****************\n",
      "i is charges\n",
      "The lower range of charges is -13120.716174999998\n",
      "The upper range of charges is 34524.777625\n",
      "total outlier in charges are 139\n",
      "*****************\n"
     ]
    }
   ],
   "source": [
    "for i in k:\n",
    "    print('i is',i)\n",
    "    myOutliers(df,i)\n",
    "    print('*****************')"
   ]
  },
  {
   "cell_type": "code",
   "execution_count": 20,
   "id": "426bdef0",
   "metadata": {},
   "outputs": [
    {
     "data": {
      "text/plain": [
       "(1327, 8)"
      ]
     },
     "execution_count": 20,
     "metadata": {},
     "output_type": "execute_result"
    }
   ],
   "source": [
    "df=df[(df['age']<=88.5)&(df['age']>=-11.5)]\n",
    "df=df[(df['bmi']<=47.315)&(df['bmi']>=13.674)]\n",
    "df.shape  "
   ]
  },
  {
   "cell_type": "markdown",
   "id": "47b7bef0",
   "metadata": {},
   "source": [
    "### Univariate Analysis"
   ]
  },
  {
   "cell_type": "code",
   "execution_count": 21,
   "id": "bc9c10dc",
   "metadata": {},
   "outputs": [
    {
     "data": {
      "image/png": "[encoded data removed]",
      "text/plain": [
       "<Figure size 504x360 with 2 Axes>"
      ]
     },
     "metadata": {
      "needs_background": "light"
     },
     "output_type": "display_data"
    }
   ],
   "source": [
    "fig,ax=plt.subplots(figsize=(7,5))\n",
    "sns.heatmap(df.corr(),annot=True,cmap=\"BuPu\")\n",
    "plt.show()"
   ]
  },
  {
   "cell_type": "code",
   "execution_count": 22,
   "id": "f790119d",
   "metadata": {},
   "outputs": [
    {
     "data": {
      "image/png": "[encoded data removed]",
      "text/plain": [
       "<Figure size 720x360 with 2 Axes>"
      ]
     },
     "metadata": {
      "needs_background": "light"
     },
     "output_type": "display_data"
    }
   ],
   "source": [
    "fig, ax=plt.subplots(1, 2, figsize=(10, 5))  \n",
    "percentage=df[\"sex\"].value_counts() \n",
    "labels =list(df[\"sex\"].value_counts().index)  \n",
    "sns.countplot (x=df[\"sex\"], ax=ax [0])\n",
    "plt.pie (percentage, labels=labels, autopct=\"%0.2f%%\") \n",
    "for bar in ax[0].patches: \n",
    "    count = f\"{round((bar.get_height()), 2)}\" \n",
    "    x = bar.get_x() +bar.get_width() /2 \n",
    "    y=bar.get_height() \n",
    "    ax[0].annotate (count, (x, y), ha = \"center\", va = \"top\")\n",
    "plt.show()"
   ]
  },
  {
   "cell_type": "code",
   "execution_count": 23,
   "id": "2e5c2b31",
   "metadata": {},
   "outputs": [
    {
     "data": {
      "image/png": "[encoded data removed]",
      "text/plain": [
       "<Figure size 720x360 with 2 Axes>"
      ]
     },
     "metadata": {
      "needs_background": "light"
     },
     "output_type": "display_data"
    }
   ],
   "source": [
    "fig, ax=plt.subplots(1, 2, figsize=(10, 5))\n",
    "percentage=df[\"classif\"].value_counts() \n",
    "labels =list(df[\"classif\"].value_counts().index)  \n",
    "sns.countplot (x=df[\"classif\"], ax=ax [0])\n",
    "plt.pie (percentage, labels=labels, autopct=\"%0.2f%%\") \n",
    "for bar in ax[0].patches: \n",
    "    count = f\"{round((bar.get_height()), 2)}\" \n",
    "    x = bar.get_x() +bar.get_width() /2 \n",
    "    y=bar.get_height() \n",
    "    ax[0].annotate (count, (x, y), ha = \"center\", va = \"top\")\n",
    "plt.show()"
   ]
  },
  {
   "cell_type": "code",
   "execution_count": 24,
   "id": "27c31c54",
   "metadata": {},
   "outputs": [
    {
     "data": {
      "image/png": "[encoded data removed]",
      "text/plain": [
       "<Figure size 720x360 with 2 Axes>"
      ]
     },
     "metadata": {
      "needs_background": "light"
     },
     "output_type": "display_data"
    }
   ],
   "source": [
    "fig, ax=plt.subplots(1, 2, figsize=(10, 5)) \n",
    "percentage=df[\"children\"].value_counts() \n",
    "labels =list(df[\"children\"].value_counts().index)  \n",
    "sns.countplot (x=df[\"children\"], ax=ax [0])\n",
    "plt.pie (percentage, labels=labels, autopct=\"%0.2f%%\") \n",
    "for bar in ax[0].patches: \n",
    "    count = f\"{round((bar.get_height()), 2)}\" \n",
    "    x = bar.get_x() +bar.get_width() /2 \n",
    "    y=bar.get_height() \n",
    "    ax[0].annotate (count, (x, y), ha = \"center\", va = \"top\")\n",
    "plt.show()"
   ]
  },
  {
   "cell_type": "code",
   "execution_count": 25,
   "id": "27d22682",
   "metadata": {},
   "outputs": [
    {
     "data": {
      "image/png": "[encoded data removed]",
      "text/plain": [
       "<Figure size 720x360 with 2 Axes>"
      ]
     },
     "metadata": {
      "needs_background": "light"
     },
     "output_type": "display_data"
    }
   ],
   "source": [
    "fig, ax=plt.subplots(1, 2, figsize=(10, 5))  \n",
    "percentage=df[\"smoker\"].value_counts() \n",
    "labels =list(df[\"smoker\"].value_counts().index)  \n",
    "sns.countplot (x=df[\"smoker\"], ax=ax [0])\n",
    "plt.pie (percentage, labels=labels, autopct=\"%0.2f%%\") \n",
    "for bar in ax[0].patches: \n",
    "    count = f\"{round((bar.get_height()), 2)}\" \n",
    "    x = bar.get_x() +bar.get_width() /2 \n",
    "    y=bar.get_height() \n",
    "    ax[0].annotate (count, (x, y), ha = \"center\", va = \"top\")\n",
    "plt.show()"
   ]
  },
  {
   "cell_type": "code",
   "execution_count": 26,
   "id": "0367d46a",
   "metadata": {},
   "outputs": [
    {
     "data": {
      "image/png": "[encoded data removed]",
      "text/plain": [
       "<Figure size 720x360 with 2 Axes>"
      ]
     },
     "metadata": {
      "needs_background": "light"
     },
     "output_type": "display_data"
    }
   ],
   "source": [
    "fig, ax=plt.subplots(1, 2, figsize=(10, 5))  \n",
    "percentage=df[\"region\"].value_counts() \n",
    "labels =list(df[\"region\"].value_counts().index)  \n",
    "sns.countplot (x=df[\"region\"], ax=ax [0])\n",
    "plt.pie (percentage, labels=labels, autopct=\"%0.2f%%\") \n",
    "for bar in ax[0].patches: \n",
    "    count = f\"{round((bar.get_height()), 2)}\" \n",
    "    x = bar.get_x() +bar.get_width() /2 \n",
    "    y=bar.get_height() \n",
    "    ax[0].annotate (count, (x, y), ha = \"center\", va = \"top\")\n",
    "plt.show()"
   ]
  },
  {
   "cell_type": "code",
   "execution_count": 27,
   "id": "12e60f87",
   "metadata": {
    "scrolled": true
   },
   "outputs": [
    {
     "data": {
      "image/png": "[encoded data removed]",
      "text/plain": [
       "<Figure size 1440x504 with 2 Axes>"
      ]
     },
     "metadata": {
      "needs_background": "light"
     },
     "output_type": "display_data"
    }
   ],
   "source": [
    "fig,ax=plt.subplots(1,2,figsize=(20,7))\n",
    "sns.histplot(x=df[\"charges\"],ax=ax[1],color='m')\n",
    "sns.boxplot(y=df['charges'],ax=ax[0],color='g')\n",
    "plt.show()"
   ]
  },
  {
   "cell_type": "code",
   "execution_count": 28,
   "id": "74d11651",
   "metadata": {},
   "outputs": [
    {
     "data": {
      "image/png": "[encoded data removed]",
      "text/plain": [
       "<Figure size 1440x504 with 2 Axes>"
      ]
     },
     "metadata": {
      "needs_background": "light"
     },
     "output_type": "display_data"
    }
   ],
   "source": [
    "fig,ax=plt.subplots(1,2,figsize=(20,7))\n",
    "sns.histplot(x=df[\"bmi\"],ax=ax[1],color='m')\n",
    "sns.boxplot(y=df['bmi'],ax=ax[0],color='g')\n",
    "plt.show()"
   ]
  },
  {
   "cell_type": "code",
   "execution_count": 29,
   "id": "73af9086",
   "metadata": {
    "scrolled": false
   },
   "outputs": [
    {
     "data": {
      "image/png": "[encoded data removed]",
      "text/plain": [
       "<Figure size 1440x504 with 2 Axes>"
      ]
     },
     "metadata": {
      "needs_background": "light"
     },
     "output_type": "display_data"
    }
   ],
   "source": [
    "fig,ax=plt.subplots(1,2,figsize=(20,7))\n",
    "sns.histplot(x=df[\"age\"],ax=ax[1],color='m')\n",
    "sns.boxplot(y=df['age'],ax=ax[0],color='g')\n",
    "plt.show()"
   ]
  },
  {
   "cell_type": "markdown",
   "id": "6f5e46c7",
   "metadata": {},
   "source": [
    "#### interpretaion 1: around 60 % popluation  having BMI between 25-35 which means they are not normal and falls under the category of pre-obesity and obesity 1 type\n",
    "#### interpretation 2:around 43 %  population have no children and 24 % have 1 child.\n",
    "#### interpretaton 3: density are equally distributed among all the regions."
   ]
  },
  {
   "cell_type": "markdown",
   "id": "6fcc2130",
   "metadata": {},
   "source": [
    "### Bivariate"
   ]
  },
  {
   "cell_type": "code",
   "execution_count": 30,
   "id": "f96fc008",
   "metadata": {},
   "outputs": [
    {
     "data": {
      "image/png": "[encoded data removed]",
      "text/plain": [
       "<Figure size 720x720 with 4 Axes>"
      ]
     },
     "metadata": {
      "needs_background": "light"
     },
     "output_type": "display_data"
    }
   ],
   "source": [
    "fig,ax=plt.subplots(2,2,figsize=(10,10))\n",
    "sns.countplot(x='classif',hue='smoker',data=df,ax=ax[0,0])\n",
    "ax[0,0].set_title('')\n",
    "sns.countplot(x='classif',hue='sex',data=df,ax=ax[0,1])\n",
    "ax[0,1].set_title('')\n",
    "sns.countplot(x='sex',hue='smoker',data=df,ax=ax[1,0])\n",
    "ax[1,0].set_title('')\n",
    "sns.countplot(x='children',hue='classif',data=df,ax=ax[1,1])\n",
    "ax[1,1].set_title('')\n",
    "plt.show()   "
   ]
  },
  {
   "cell_type": "code",
   "execution_count": 31,
   "id": "dae55666",
   "metadata": {
    "scrolled": true
   },
   "outputs": [
    {
     "data": {
      "image/png": "[encoded data removed]",
      "text/plain": [
       "<Figure size 1080x720 with 4 Axes>"
      ]
     },
     "metadata": {
      "needs_background": "light"
     },
     "output_type": "display_data"
    }
   ],
   "source": [
    "fig,ax = plt.subplots( 2,2,figsize=(15,10))\n",
    "ax[0,0].set_title('Premium charges with gender')\n",
    "ax[0,1].set_title('Premium charges with disease type')\n",
    "ax[1,0].set_title('Premium charges with smoker')\n",
    "ax[1,1].set_title('Premium charges with region')\n",
    "\n",
    "sns.barplot(y=df['charges'], x=df['sex'],ci=None,ax=ax[0,0])\n",
    "sns.barplot(y=df['charges'], x=df['classif'],ci=None,ax=ax[0,1])\n",
    "sns.barplot(y=df['charges'], x=df['smoker'],ci=None,ax=ax[1,0])\n",
    "sns.barplot(y=df['charges'], x=df['region'],ci=None,ax=ax[1,1])\n",
    "plt.show()"
   ]
  },
  {
   "cell_type": "markdown",
   "id": "ce039e3a",
   "metadata": {},
   "source": [
    "#### iterpretation 1: smoker are more likely to fall ill that's  the another reason of high premium rates"
   ]
  },
  {
   "cell_type": "markdown",
   "id": "5bccc3ef",
   "metadata": {},
   "source": [
    "### Multivariate"
   ]
  },
  {
   "cell_type": "code",
   "execution_count": 32,
   "id": "59cbcc2b",
   "metadata": {},
   "outputs": [
    {
     "data": {
      "image/png": "[encoded data removed]",
      "text/plain": [
       "<Figure size 720x504 with 1 Axes>"
      ]
     },
     "metadata": {
      "needs_background": "light"
     },
     "output_type": "display_data"
    }
   ],
   "source": [
    "fig,ax= plt.subplots(figsize=(10,7))\n",
    "#sns.barplot(x='rent amount (R$)',hue='city',data=df1)\n",
    "sns.barplot(x=df['classif'],y=df['charges'],hue=df['sex'],ci=None,ax=ax)\n",
    "count=len(df['classif'])\n",
    "\n",
    "for bar in ax.patches:\n",
    "    percentage = f'{round((bar.get_height()/count),2)}%'\n",
    "    \n",
    "    x=bar.get_x()+bar.get_width()/2\n",
    "    y=bar.get_height()\n",
    "    ax.annotate(percentage,(x,y),ha='center',va='top')\n",
    "    \n",
    "plt.show()"
   ]
  },
  {
   "cell_type": "code",
   "execution_count": 33,
   "id": "ecc7bc7e",
   "metadata": {},
   "outputs": [
    {
     "data": {
      "image/png": "[encoded data removed]",
      "text/plain": [
       "<Figure size 720x504 with 1 Axes>"
      ]
     },
     "metadata": {
      "needs_background": "light"
     },
     "output_type": "display_data"
    }
   ],
   "source": [
    "fig,ax= plt.subplots(figsize=(10,7))\n",
    "#sns.barplot(x='rent amount (R$)',hue='city',data=df1)\n",
    "sns.barplot(x=df['smoker'],y=df['charges'],hue=df['sex'],ci=None,ax=ax)\n",
    "count=len(df['smoker'])\n",
    "\n",
    "for bar in ax.patches:\n",
    "    percentage = f'{round((bar.get_height()/count),2)}%'\n",
    "    \n",
    "    x=bar.get_x()+bar.get_width()/2\n",
    "    y=bar.get_height()\n",
    "    ax.annotate(percentage,(x,y),ha='center',va='top')\n",
    "    \n",
    "plt.show()"
   ]
  },
  {
   "cell_type": "code",
   "execution_count": 34,
   "id": "9bf3a7da",
   "metadata": {},
   "outputs": [
    {
     "name": "stderr",
     "output_type": "stream",
     "text": [
      "C:\\Users\\Dell\\anaconda3\\lib\\site-packages\\seaborn\\_decorators.py:36: FutureWarning: Pass the following variables as keyword args: x, y, data. From version 0.12, the only valid positional argument will be `data`, and passing other arguments without an explicit keyword will result in an error or misinterpretation.\n",
      "  warnings.warn(\n"
     ]
    },
    {
     "data": {
      "image/png": "[encoded data removed]",
      "text/plain": [
       "<Figure size 413.25x360 with 1 Axes>"
      ]
     },
     "metadata": {
      "needs_background": "light"
     },
     "output_type": "display_data"
    }
   ],
   "source": [
    "sns.lmplot(\"age\", \"charges\", df, hue=\"smoker\", fit_reg=False);"
   ]
  },
  {
   "cell_type": "markdown",
   "id": "412d0dab",
   "metadata": {},
   "source": [
    "#### interpretation 1: as age increase we can see that it directly impacts the  premium charges and also we can observe that smoker are paying high premium compare to no smoker\n",
    "#### interpretation 2:OB2 and OB3 types are having high premium rates as chances of getting stroke in these categories are quit high.Obesity increases the risk of several debilitating, and deadly diseases, including diabetes, heart disease, and some cancers."
   ]
  },
  {
   "cell_type": "markdown",
   "id": "0197909b",
   "metadata": {},
   "source": [
    "### Creating Dummies"
   ]
  },
  {
   "cell_type": "code",
   "execution_count": 35,
   "id": "6e9db166",
   "metadata": {},
   "outputs": [
    {
     "data": {
      "text/html": [
       "<div>\n",
       "<style scoped>\n",
       "    .dataframe tbody tr th:only-of-type {\n",
       "        vertical-align: middle;\n",
       "    }\n",
       "\n",
       "    .dataframe tbody tr th {\n",
       "        vertical-align: top;\n",
       "    }\n",
       "\n",
       "    .dataframe thead th {\n",
       "        text-align: right;\n",
       "    }\n",
       "</style>\n",
       "<table border=\"1\" class=\"dataframe\">\n",
       "  <thead>\n",
       "    <tr style=\"text-align: right;\">\n",
       "      <th></th>\n",
       "      <th>age</th>\n",
       "      <th>sex</th>\n",
       "      <th>bmi</th>\n",
       "      <th>classif</th>\n",
       "      <th>children</th>\n",
       "      <th>smoker</th>\n",
       "      <th>region</th>\n",
       "      <th>charges</th>\n",
       "      <th>sex_female</th>\n",
       "      <th>sex_male</th>\n",
       "      <th>smoker_no</th>\n",
       "      <th>smoker_yes</th>\n",
       "      <th>classif_N</th>\n",
       "      <th>classif_OB1</th>\n",
       "      <th>classif_OB2</th>\n",
       "      <th>classif_OB3</th>\n",
       "      <th>classif_PREO</th>\n",
       "      <th>classif_UW</th>\n",
       "    </tr>\n",
       "  </thead>\n",
       "  <tbody>\n",
       "    <tr>\n",
       "      <th>0</th>\n",
       "      <td>19</td>\n",
       "      <td>female</td>\n",
       "      <td>27.900</td>\n",
       "      <td>PREO</td>\n",
       "      <td>0</td>\n",
       "      <td>yes</td>\n",
       "      <td>southwest</td>\n",
       "      <td>16884.92400</td>\n",
       "      <td>1</td>\n",
       "      <td>0</td>\n",
       "      <td>0</td>\n",
       "      <td>1</td>\n",
       "      <td>0</td>\n",
       "      <td>0</td>\n",
       "      <td>0</td>\n",
       "      <td>0</td>\n",
       "      <td>1</td>\n",
       "      <td>0</td>\n",
       "    </tr>\n",
       "    <tr>\n",
       "      <th>1</th>\n",
       "      <td>18</td>\n",
       "      <td>male</td>\n",
       "      <td>33.770</td>\n",
       "      <td>OB1</td>\n",
       "      <td>1</td>\n",
       "      <td>no</td>\n",
       "      <td>southeast</td>\n",
       "      <td>1725.55230</td>\n",
       "      <td>0</td>\n",
       "      <td>1</td>\n",
       "      <td>1</td>\n",
       "      <td>0</td>\n",
       "      <td>0</td>\n",
       "      <td>1</td>\n",
       "      <td>0</td>\n",
       "      <td>0</td>\n",
       "      <td>0</td>\n",
       "      <td>0</td>\n",
       "    </tr>\n",
       "    <tr>\n",
       "      <th>2</th>\n",
       "      <td>28</td>\n",
       "      <td>male</td>\n",
       "      <td>33.000</td>\n",
       "      <td>OB1</td>\n",
       "      <td>3</td>\n",
       "      <td>no</td>\n",
       "      <td>southeast</td>\n",
       "      <td>4449.46200</td>\n",
       "      <td>0</td>\n",
       "      <td>1</td>\n",
       "      <td>1</td>\n",
       "      <td>0</td>\n",
       "      <td>0</td>\n",
       "      <td>1</td>\n",
       "      <td>0</td>\n",
       "      <td>0</td>\n",
       "      <td>0</td>\n",
       "      <td>0</td>\n",
       "    </tr>\n",
       "    <tr>\n",
       "      <th>3</th>\n",
       "      <td>0</td>\n",
       "      <td>male</td>\n",
       "      <td>22.705</td>\n",
       "      <td>N</td>\n",
       "      <td>0</td>\n",
       "      <td>no</td>\n",
       "      <td>northwest</td>\n",
       "      <td>21984.47061</td>\n",
       "      <td>0</td>\n",
       "      <td>1</td>\n",
       "      <td>1</td>\n",
       "      <td>0</td>\n",
       "      <td>1</td>\n",
       "      <td>0</td>\n",
       "      <td>0</td>\n",
       "      <td>0</td>\n",
       "      <td>0</td>\n",
       "      <td>0</td>\n",
       "    </tr>\n",
       "    <tr>\n",
       "      <th>4</th>\n",
       "      <td>32</td>\n",
       "      <td>male</td>\n",
       "      <td>28.880</td>\n",
       "      <td>PREO</td>\n",
       "      <td>0</td>\n",
       "      <td>no</td>\n",
       "      <td>northwest</td>\n",
       "      <td>3866.85520</td>\n",
       "      <td>0</td>\n",
       "      <td>1</td>\n",
       "      <td>1</td>\n",
       "      <td>0</td>\n",
       "      <td>0</td>\n",
       "      <td>0</td>\n",
       "      <td>0</td>\n",
       "      <td>0</td>\n",
       "      <td>1</td>\n",
       "      <td>0</td>\n",
       "    </tr>\n",
       "    <tr>\n",
       "      <th>...</th>\n",
       "      <td>...</td>\n",
       "      <td>...</td>\n",
       "      <td>...</td>\n",
       "      <td>...</td>\n",
       "      <td>...</td>\n",
       "      <td>...</td>\n",
       "      <td>...</td>\n",
       "      <td>...</td>\n",
       "      <td>...</td>\n",
       "      <td>...</td>\n",
       "      <td>...</td>\n",
       "      <td>...</td>\n",
       "      <td>...</td>\n",
       "      <td>...</td>\n",
       "      <td>...</td>\n",
       "      <td>...</td>\n",
       "      <td>...</td>\n",
       "      <td>...</td>\n",
       "    </tr>\n",
       "    <tr>\n",
       "      <th>1333</th>\n",
       "      <td>50</td>\n",
       "      <td>male</td>\n",
       "      <td>30.970</td>\n",
       "      <td>OB1</td>\n",
       "      <td>3</td>\n",
       "      <td>no</td>\n",
       "      <td>northwest</td>\n",
       "      <td>10600.54830</td>\n",
       "      <td>0</td>\n",
       "      <td>1</td>\n",
       "      <td>1</td>\n",
       "      <td>0</td>\n",
       "      <td>0</td>\n",
       "      <td>1</td>\n",
       "      <td>0</td>\n",
       "      <td>0</td>\n",
       "      <td>0</td>\n",
       "      <td>0</td>\n",
       "    </tr>\n",
       "    <tr>\n",
       "      <th>1334</th>\n",
       "      <td>18</td>\n",
       "      <td>female</td>\n",
       "      <td>31.920</td>\n",
       "      <td>OB1</td>\n",
       "      <td>0</td>\n",
       "      <td>no</td>\n",
       "      <td>northeast</td>\n",
       "      <td>2205.98080</td>\n",
       "      <td>1</td>\n",
       "      <td>0</td>\n",
       "      <td>1</td>\n",
       "      <td>0</td>\n",
       "      <td>0</td>\n",
       "      <td>1</td>\n",
       "      <td>0</td>\n",
       "      <td>0</td>\n",
       "      <td>0</td>\n",
       "      <td>0</td>\n",
       "    </tr>\n",
       "    <tr>\n",
       "      <th>1335</th>\n",
       "      <td>18</td>\n",
       "      <td>female</td>\n",
       "      <td>36.850</td>\n",
       "      <td>OB2</td>\n",
       "      <td>0</td>\n",
       "      <td>no</td>\n",
       "      <td>southeast</td>\n",
       "      <td>1629.83350</td>\n",
       "      <td>1</td>\n",
       "      <td>0</td>\n",
       "      <td>1</td>\n",
       "      <td>0</td>\n",
       "      <td>0</td>\n",
       "      <td>0</td>\n",
       "      <td>1</td>\n",
       "      <td>0</td>\n",
       "      <td>0</td>\n",
       "      <td>0</td>\n",
       "    </tr>\n",
       "    <tr>\n",
       "      <th>1336</th>\n",
       "      <td>21</td>\n",
       "      <td>female</td>\n",
       "      <td>25.800</td>\n",
       "      <td>PREO</td>\n",
       "      <td>0</td>\n",
       "      <td>no</td>\n",
       "      <td>southwest</td>\n",
       "      <td>2007.94500</td>\n",
       "      <td>1</td>\n",
       "      <td>0</td>\n",
       "      <td>1</td>\n",
       "      <td>0</td>\n",
       "      <td>0</td>\n",
       "      <td>0</td>\n",
       "      <td>0</td>\n",
       "      <td>0</td>\n",
       "      <td>1</td>\n",
       "      <td>0</td>\n",
       "    </tr>\n",
       "    <tr>\n",
       "      <th>1337</th>\n",
       "      <td>-1</td>\n",
       "      <td>female</td>\n",
       "      <td>29.070</td>\n",
       "      <td>PREO</td>\n",
       "      <td>0</td>\n",
       "      <td>yes</td>\n",
       "      <td>northwest</td>\n",
       "      <td>29141.36030</td>\n",
       "      <td>1</td>\n",
       "      <td>0</td>\n",
       "      <td>0</td>\n",
       "      <td>1</td>\n",
       "      <td>0</td>\n",
       "      <td>0</td>\n",
       "      <td>0</td>\n",
       "      <td>0</td>\n",
       "      <td>1</td>\n",
       "      <td>0</td>\n",
       "    </tr>\n",
       "  </tbody>\n",
       "</table>\n",
       "<p>1327 rows × 18 columns</p>\n",
       "</div>"
      ],
      "text/plain": [
       "      age     sex     bmi classif  children smoker     region      charges  \\\n",
       "0      19  female  27.900    PREO         0    yes  southwest  16884.92400   \n",
       "1      18    male  33.770     OB1         1     no  southeast   1725.55230   \n",
       "2      28    male  33.000     OB1         3     no  southeast   4449.46200   \n",
       "3       0    male  22.705       N         0     no  northwest  21984.47061   \n",
       "4      32    male  28.880    PREO         0     no  northwest   3866.85520   \n",
       "...   ...     ...     ...     ...       ...    ...        ...          ...   \n",
       "1333   50    male  30.970     OB1         3     no  northwest  10600.54830   \n",
       "1334   18  female  31.920     OB1         0     no  northeast   2205.98080   \n",
       "1335   18  female  36.850     OB2         0     no  southeast   1629.83350   \n",
       "1336   21  female  25.800    PREO         0     no  southwest   2007.94500   \n",
       "1337   -1  female  29.070    PREO         0    yes  northwest  29141.36030   \n",
       "\n",
       "      sex_female  sex_male  smoker_no  smoker_yes  classif_N  classif_OB1  \\\n",
       "0              1         0          0           1          0            0   \n",
       "1              0         1          1           0          0            1   \n",
       "2              0         1          1           0          0            1   \n",
       "3              0         1          1           0          1            0   \n",
       "4              0         1          1           0          0            0   \n",
       "...          ...       ...        ...         ...        ...          ...   \n",
       "1333           0         1          1           0          0            1   \n",
       "1334           1         0          1           0          0            1   \n",
       "1335           1         0          1           0          0            0   \n",
       "1336           1         0          1           0          0            0   \n",
       "1337           1         0          0           1          0            0   \n",
       "\n",
       "      classif_OB2  classif_OB3  classif_PREO  classif_UW  \n",
       "0               0            0             1           0  \n",
       "1               0            0             0           0  \n",
       "2               0            0             0           0  \n",
       "3               0            0             0           0  \n",
       "4               0            0             1           0  \n",
       "...           ...          ...           ...         ...  \n",
       "1333            0            0             0           0  \n",
       "1334            0            0             0           0  \n",
       "1335            1            0             0           0  \n",
       "1336            0            0             1           0  \n",
       "1337            0            0             1           0  \n",
       "\n",
       "[1327 rows x 18 columns]"
      ]
     },
     "execution_count": 35,
     "metadata": {},
     "output_type": "execute_result"
    }
   ],
   "source": [
    "sex = pd.get_dummies(df.sex, prefix= 'sex')\n",
    "smoker=pd.get_dummies(df.smoker, prefix= 'smoker')\n",
    "classif=pd.get_dummies(df.classif, prefix= 'classif')\n",
    "df_with_dummies=  pd.concat([df,sex,smoker,classif],axis='columns')\n",
    "df_with_dummies"
   ]
  },
  {
   "cell_type": "code",
   "execution_count": 36,
   "id": "0eccdb26",
   "metadata": {},
   "outputs": [],
   "source": [
    "df_with_dummies=df_with_dummies.drop(['sex', 'smoker','classif','region','charges'], axis = 1)"
   ]
  },
  {
   "cell_type": "code",
   "execution_count": 37,
   "id": "10c54d1b",
   "metadata": {},
   "outputs": [
    {
     "data": {
      "text/html": [
       "<div>\n",
       "<style scoped>\n",
       "    .dataframe tbody tr th:only-of-type {\n",
       "        vertical-align: middle;\n",
       "    }\n",
       "\n",
       "    .dataframe tbody tr th {\n",
       "        vertical-align: top;\n",
       "    }\n",
       "\n",
       "    .dataframe thead th {\n",
       "        text-align: right;\n",
       "    }\n",
       "</style>\n",
       "<table border=\"1\" class=\"dataframe\">\n",
       "  <thead>\n",
       "    <tr style=\"text-align: right;\">\n",
       "      <th></th>\n",
       "      <th>age</th>\n",
       "      <th>bmi</th>\n",
       "      <th>children</th>\n",
       "      <th>sex_female</th>\n",
       "      <th>sex_male</th>\n",
       "      <th>smoker_no</th>\n",
       "      <th>smoker_yes</th>\n",
       "      <th>classif_N</th>\n",
       "      <th>classif_OB1</th>\n",
       "      <th>classif_OB2</th>\n",
       "      <th>classif_OB3</th>\n",
       "      <th>classif_PREO</th>\n",
       "      <th>classif_UW</th>\n",
       "    </tr>\n",
       "  </thead>\n",
       "  <tbody>\n",
       "    <tr>\n",
       "      <th>0</th>\n",
       "      <td>19</td>\n",
       "      <td>27.900</td>\n",
       "      <td>0</td>\n",
       "      <td>1</td>\n",
       "      <td>0</td>\n",
       "      <td>0</td>\n",
       "      <td>1</td>\n",
       "      <td>0</td>\n",
       "      <td>0</td>\n",
       "      <td>0</td>\n",
       "      <td>0</td>\n",
       "      <td>1</td>\n",
       "      <td>0</td>\n",
       "    </tr>\n",
       "    <tr>\n",
       "      <th>1</th>\n",
       "      <td>18</td>\n",
       "      <td>33.770</td>\n",
       "      <td>1</td>\n",
       "      <td>0</td>\n",
       "      <td>1</td>\n",
       "      <td>1</td>\n",
       "      <td>0</td>\n",
       "      <td>0</td>\n",
       "      <td>1</td>\n",
       "      <td>0</td>\n",
       "      <td>0</td>\n",
       "      <td>0</td>\n",
       "      <td>0</td>\n",
       "    </tr>\n",
       "    <tr>\n",
       "      <th>2</th>\n",
       "      <td>28</td>\n",
       "      <td>33.000</td>\n",
       "      <td>3</td>\n",
       "      <td>0</td>\n",
       "      <td>1</td>\n",
       "      <td>1</td>\n",
       "      <td>0</td>\n",
       "      <td>0</td>\n",
       "      <td>1</td>\n",
       "      <td>0</td>\n",
       "      <td>0</td>\n",
       "      <td>0</td>\n",
       "      <td>0</td>\n",
       "    </tr>\n",
       "    <tr>\n",
       "      <th>3</th>\n",
       "      <td>0</td>\n",
       "      <td>22.705</td>\n",
       "      <td>0</td>\n",
       "      <td>0</td>\n",
       "      <td>1</td>\n",
       "      <td>1</td>\n",
       "      <td>0</td>\n",
       "      <td>1</td>\n",
       "      <td>0</td>\n",
       "      <td>0</td>\n",
       "      <td>0</td>\n",
       "      <td>0</td>\n",
       "      <td>0</td>\n",
       "    </tr>\n",
       "    <tr>\n",
       "      <th>4</th>\n",
       "      <td>32</td>\n",
       "      <td>28.880</td>\n",
       "      <td>0</td>\n",
       "      <td>0</td>\n",
       "      <td>1</td>\n",
       "      <td>1</td>\n",
       "      <td>0</td>\n",
       "      <td>0</td>\n",
       "      <td>0</td>\n",
       "      <td>0</td>\n",
       "      <td>0</td>\n",
       "      <td>1</td>\n",
       "      <td>0</td>\n",
       "    </tr>\n",
       "  </tbody>\n",
       "</table>\n",
       "</div>"
      ],
      "text/plain": [
       "   age     bmi  children  sex_female  sex_male  smoker_no  smoker_yes  \\\n",
       "0   19  27.900         0           1         0          0           1   \n",
       "1   18  33.770         1           0         1          1           0   \n",
       "2   28  33.000         3           0         1          1           0   \n",
       "3    0  22.705         0           0         1          1           0   \n",
       "4   32  28.880         0           0         1          1           0   \n",
       "\n",
       "   classif_N  classif_OB1  classif_OB2  classif_OB3  classif_PREO  classif_UW  \n",
       "0          0            0            0            0             1           0  \n",
       "1          0            1            0            0             0           0  \n",
       "2          0            1            0            0             0           0  \n",
       "3          1            0            0            0             0           0  \n",
       "4          0            0            0            0             1           0  "
      ]
     },
     "execution_count": 37,
     "metadata": {},
     "output_type": "execute_result"
    }
   ],
   "source": [
    "df_with_dummies.head()"
   ]
  },
  {
   "cell_type": "code",
   "execution_count": 38,
   "id": "fc825b50",
   "metadata": {},
   "outputs": [],
   "source": [
    "#normalization"
   ]
  },
  {
   "cell_type": "code",
   "execution_count": 39,
   "id": "48292b4e",
   "metadata": {},
   "outputs": [
    {
     "data": {
      "text/html": [
       "<div>\n",
       "<style scoped>\n",
       "    .dataframe tbody tr th:only-of-type {\n",
       "        vertical-align: middle;\n",
       "    }\n",
       "\n",
       "    .dataframe tbody tr th {\n",
       "        vertical-align: top;\n",
       "    }\n",
       "\n",
       "    .dataframe thead th {\n",
       "        text-align: right;\n",
       "    }\n",
       "</style>\n",
       "<table border=\"1\" class=\"dataframe\">\n",
       "  <thead>\n",
       "    <tr style=\"text-align: right;\">\n",
       "      <th></th>\n",
       "      <th>age</th>\n",
       "      <th>bmi</th>\n",
       "      <th>children</th>\n",
       "      <th>sex_female</th>\n",
       "      <th>sex_male</th>\n",
       "      <th>smoker_no</th>\n",
       "      <th>smoker_yes</th>\n",
       "      <th>classif_N</th>\n",
       "      <th>classif_OB1</th>\n",
       "      <th>classif_OB2</th>\n",
       "      <th>classif_OB3</th>\n",
       "      <th>classif_PREO</th>\n",
       "      <th>classif_UW</th>\n",
       "    </tr>\n",
       "  </thead>\n",
       "  <tbody>\n",
       "    <tr>\n",
       "      <th>0</th>\n",
       "      <td>-1.423526</td>\n",
       "      <td>-0.445333</td>\n",
       "      <td>0</td>\n",
       "      <td>1</td>\n",
       "      <td>0</td>\n",
       "      <td>0</td>\n",
       "      <td>1</td>\n",
       "      <td>0</td>\n",
       "      <td>0</td>\n",
       "      <td>0</td>\n",
       "      <td>0</td>\n",
       "      <td>1</td>\n",
       "      <td>0</td>\n",
       "    </tr>\n",
       "    <tr>\n",
       "      <th>1</th>\n",
       "      <td>-1.494281</td>\n",
       "      <td>0.545857</td>\n",
       "      <td>1</td>\n",
       "      <td>0</td>\n",
       "      <td>1</td>\n",
       "      <td>1</td>\n",
       "      <td>0</td>\n",
       "      <td>0</td>\n",
       "      <td>1</td>\n",
       "      <td>0</td>\n",
       "      <td>0</td>\n",
       "      <td>0</td>\n",
       "      <td>0</td>\n",
       "    </tr>\n",
       "    <tr>\n",
       "      <th>2</th>\n",
       "      <td>-0.786730</td>\n",
       "      <td>0.415837</td>\n",
       "      <td>3</td>\n",
       "      <td>0</td>\n",
       "      <td>1</td>\n",
       "      <td>1</td>\n",
       "      <td>0</td>\n",
       "      <td>0</td>\n",
       "      <td>1</td>\n",
       "      <td>0</td>\n",
       "      <td>0</td>\n",
       "      <td>0</td>\n",
       "      <td>0</td>\n",
       "    </tr>\n",
       "    <tr>\n",
       "      <th>3</th>\n",
       "      <td>-2.767872</td>\n",
       "      <td>-1.322544</td>\n",
       "      <td>0</td>\n",
       "      <td>0</td>\n",
       "      <td>1</td>\n",
       "      <td>1</td>\n",
       "      <td>0</td>\n",
       "      <td>1</td>\n",
       "      <td>0</td>\n",
       "      <td>0</td>\n",
       "      <td>0</td>\n",
       "      <td>0</td>\n",
       "      <td>0</td>\n",
       "    </tr>\n",
       "    <tr>\n",
       "      <th>4</th>\n",
       "      <td>-0.503710</td>\n",
       "      <td>-0.279853</td>\n",
       "      <td>0</td>\n",
       "      <td>0</td>\n",
       "      <td>1</td>\n",
       "      <td>1</td>\n",
       "      <td>0</td>\n",
       "      <td>0</td>\n",
       "      <td>0</td>\n",
       "      <td>0</td>\n",
       "      <td>0</td>\n",
       "      <td>1</td>\n",
       "      <td>0</td>\n",
       "    </tr>\n",
       "  </tbody>\n",
       "</table>\n",
       "</div>"
      ],
      "text/plain": [
       "        age       bmi  children  sex_female  sex_male  smoker_no  smoker_yes  \\\n",
       "0 -1.423526 -0.445333         0           1         0          0           1   \n",
       "1 -1.494281  0.545857         1           0         1          1           0   \n",
       "2 -0.786730  0.415837         3           0         1          1           0   \n",
       "3 -2.767872 -1.322544         0           0         1          1           0   \n",
       "4 -0.503710 -0.279853         0           0         1          1           0   \n",
       "\n",
       "   classif_N  classif_OB1  classif_OB2  classif_OB3  classif_PREO  classif_UW  \n",
       "0          0            0            0            0             1           0  \n",
       "1          0            1            0            0             0           0  \n",
       "2          0            1            0            0             0           0  \n",
       "3          1            0            0            0             0           0  \n",
       "4          0            0            0            0             1           0  "
      ]
     },
     "execution_count": 39,
     "metadata": {},
     "output_type": "execute_result"
    }
   ],
   "source": [
    "from sklearn.preprocessing import StandardScaler\n",
    "std_scaler = StandardScaler()\n",
    "\n",
    "scale_columns = [\"age\",\"bmi\",'charges']\n",
    "scale_columns1 = [\"age\",\"bmi\"]\n",
    "df[scale_columns] = std_scaler.fit_transform(df[scale_columns])\n",
    "df_with_dummies[scale_columns1] = std_scaler.fit_transform(df_with_dummies[scale_columns1])\n",
    "df.head()\n",
    "df_with_dummies.head()"
   ]
  },
  {
   "cell_type": "code",
   "execution_count": 40,
   "id": "ea5b3a2f",
   "metadata": {},
   "outputs": [],
   "source": [
    "y=df['charges']"
   ]
  },
  {
   "cell_type": "markdown",
   "id": "1a1f457c",
   "metadata": {},
   "source": [
    "### feature selection"
   ]
  },
  {
   "cell_type": "code",
   "execution_count": 41,
   "id": "76fbf884",
   "metadata": {},
   "outputs": [
    {
     "name": "stdout",
     "output_type": "stream",
     "text": [
      "MSE = 0.9010941686775242\n",
      "r2 score is  0.09197274630642904\n",
      "test_size=0.2,random_state=1\n",
      "age\n",
      "--------------------------------------------------\n",
      "MSE = 0.953535329748683\n",
      "r2 score is  0.03912809907290815\n",
      "test_size=0.2,random_state=1\n",
      "bmi\n",
      "--------------------------------------------------\n",
      "MSE = 0.9816829020294728\n",
      "r2 score is  0.01076395729427726\n",
      "test_size=0.2,random_state=1\n",
      "children\n",
      "--------------------------------------------------\n",
      "MSE = 0.9943524243863513\n",
      "r2 score is  -0.0020030453023656136\n",
      "test_size=0.2,random_state=1\n",
      "sex_female\n",
      "--------------------------------------------------\n",
      "MSE = 0.9943524243863513\n",
      "r2 score is  -0.0020030453023656136\n",
      "test_size=0.2,random_state=1\n",
      "sex_male\n",
      "--------------------------------------------------\n",
      "MSE = 0.3537149011711074\n",
      "r2 score is  0.6435635902823874\n",
      "test_size=0.2,random_state=1\n",
      "smoker_no\n",
      "--------------------------------------------------\n",
      "MSE = 0.3537149011711074\n",
      "r2 score is  0.6435635902823874\n",
      "test_size=0.2,random_state=1\n",
      "smoker_yes\n",
      "--------------------------------------------------\n",
      "MSE = 0.9784254619742072\n",
      "r2 score is  0.014046460333660304\n",
      "test_size=0.2,random_state=1\n",
      "classif_N\n",
      "--------------------------------------------------\n",
      "MSE = 0.9917849446535956\n",
      "r2 score is  0.0005841888088812253\n",
      "test_size=0.2,random_state=1\n",
      "classif_OB1\n",
      "--------------------------------------------------\n",
      "MSE = 0.9537175700314534\n",
      "r2 score is  0.0389444566199566\n",
      "test_size=0.2,random_state=1\n",
      "classif_OB2\n",
      "--------------------------------------------------\n",
      "MSE = 0.9976733582141493\n",
      "r2 score is  -0.005349530640051281\n",
      "test_size=0.2,random_state=1\n",
      "classif_OB3\n",
      "--------------------------------------------------\n",
      "MSE = 0.9790987318990602\n",
      "r2 score is  0.01336801022033196\n",
      "test_size=0.2,random_state=1\n",
      "classif_PREO\n",
      "--------------------------------------------------\n",
      "MSE = 0.9902125241842032\n",
      "r2 score is  0.0021687075973774173\n",
      "test_size=0.2,random_state=1\n",
      "classif_UW\n",
      "--------------------------------------------------\n"
     ]
    }
   ],
   "source": [
    "for columns in df_with_dummies.columns:\n",
    "    x=df_with_dummies[[columns]]\n",
    "    x_train, x_test, y_train, y_test = train_test_split(x, y, test_size=0.2, random_state=1) \n",
    "    model=LinearRegression()\n",
    "    model.fit(x_train,y_train)\n",
    "    y_test_predicted=model.predict(x_test)\n",
    "    print(\"MSE =\",mean_squared_error(y_test_predicted,y_test))\n",
    "    # predicting the accuracy score\n",
    "    score=r2_score(y_test,y_test_predicted)\n",
    "    print(\"r2 score is \",score)\n",
    "    print(\"test_size={},random_state={}\".format(0.2,1))\n",
    "    print(columns)\n",
    "    print(\"-\"*50)"
   ]
  },
  {
   "cell_type": "code",
   "execution_count": 42,
   "id": "b4cec0f4",
   "metadata": {},
   "outputs": [
    {
     "name": "stdout",
     "output_type": "stream",
     "text": [
      "MSE = 0.24594244724310538\n",
      "r2 score is  0.752165253422305\n",
      "test_size=0.2,random_state=1\n",
      "'smoker_no','smoker_yes' age\n",
      "--------------------------------------------------\n",
      "MSE = 0.30478850919738554\n",
      "r2 score is  0.692866425525718\n",
      "test_size=0.2,random_state=1\n",
      "'smoker_no','smoker_yes' bmi\n",
      "--------------------------------------------------\n",
      "MSE = 0.3524296394211189\n",
      "r2 score is  0.6448587409311063\n",
      "test_size=0.2,random_state=1\n",
      "'smoker_no','smoker_yes' children\n",
      "--------------------------------------------------\n",
      "MSE = 0.35374109304301476\n",
      "r2 score is  0.6435371968882853\n",
      "test_size=0.2,random_state=1\n",
      "'smoker_no','smoker_yes' sex_female\n",
      "--------------------------------------------------\n",
      "MSE = 0.35374109304301476\n",
      "r2 score is  0.6435371968882853\n",
      "test_size=0.2,random_state=1\n",
      "'smoker_no','smoker_yes' sex_male\n",
      "--------------------------------------------------\n",
      "MSE = 0.35371490117110743\n",
      "r2 score is  0.6435635902823873\n",
      "test_size=0.2,random_state=1\n",
      "'smoker_no','smoker_yes' smoker_no\n",
      "--------------------------------------------------\n",
      "MSE = 0.3537149011711074\n",
      "r2 score is  0.6435635902823874\n",
      "test_size=0.2,random_state=1\n",
      "'smoker_no','smoker_yes' smoker_yes\n",
      "--------------------------------------------------\n",
      "MSE = 0.33639794557886743\n",
      "r2 score is  0.6610137838085897\n",
      "test_size=0.2,random_state=1\n",
      "'smoker_no','smoker_yes' classif_N\n",
      "--------------------------------------------------\n",
      "MSE = 0.3528260423370141\n",
      "r2 score is  0.6444592880619298\n",
      "test_size=0.2,random_state=1\n",
      "'smoker_no','smoker_yes' classif_OB1\n",
      "--------------------------------------------------\n",
      "MSE = 0.327235417590952\n",
      "r2 score is  0.6702468089628506\n",
      "test_size=0.2,random_state=1\n",
      "'smoker_no','smoker_yes' classif_OB2\n",
      "--------------------------------------------------\n",
      "MSE = 0.3500211308100142\n",
      "r2 score is  0.6472857807851633\n",
      "test_size=0.2,random_state=1\n",
      "'smoker_no','smoker_yes' classif_OB3\n",
      "--------------------------------------------------\n",
      "MSE = 0.34732718298989484\n",
      "r2 score is  0.6500004560385686\n",
      "test_size=0.2,random_state=1\n",
      "'smoker_no','smoker_yes' classif_PREO\n",
      "--------------------------------------------------\n",
      "MSE = 0.3458136061857215\n",
      "r2 score is  0.6515256784143442\n",
      "test_size=0.2,random_state=1\n",
      "'smoker_no','smoker_yes' classif_UW\n",
      "--------------------------------------------------\n"
     ]
    }
   ],
   "source": [
    "for columns in df_with_dummies.columns:\n",
    "    x=df_with_dummies[['smoker_no','smoker_yes',columns]]\n",
    "    x_train, x_test, y_train, y_test = train_test_split(x, y, test_size=0.2, random_state=1) \n",
    "    model=LinearRegression()\n",
    "    model.fit(x_train,y_train)\n",
    "    y_test_predicted=model.predict(x_test)\n",
    "    print(\"MSE =\",mean_squared_error(y_test_predicted,y_test))\n",
    "    # predicting the accuracy score\n",
    "    score=r2_score(y_test,y_test_predicted)\n",
    "    print(\"r2 score is \",score)\n",
    "    print(\"test_size={},random_state={}\".format(0.2,1))\n",
    "    print(\"'smoker_no','smoker_yes'\",columns)\n",
    "    print(\"-\"*50)"
   ]
  },
  {
   "cell_type": "code",
   "execution_count": 43,
   "id": "cdbe519f",
   "metadata": {},
   "outputs": [
    {
     "name": "stdout",
     "output_type": "stream",
     "text": [
      "MSE = 0.24594244724310538\n",
      "r2 score is  0.752165253422305\n",
      "test_size=0.2,random_state=1\n",
      "'smoker_no','smoker_yes','age' age\n",
      "--------------------------------------------------\n",
      "MSE = 0.21833133292263282\n",
      "r2 score is  0.7799888096934924\n",
      "test_size=0.2,random_state=1\n",
      "'smoker_no','smoker_yes','age' bmi\n",
      "--------------------------------------------------\n",
      "MSE = 0.2469955031885957\n",
      "r2 score is  0.7511040951866762\n",
      "test_size=0.2,random_state=1\n",
      "'smoker_no','smoker_yes','age' children\n",
      "--------------------------------------------------\n",
      "MSE = 0.2458337691858702\n",
      "r2 score is  0.7522747676565308\n",
      "test_size=0.2,random_state=1\n",
      "'smoker_no','smoker_yes','age' sex_female\n",
      "--------------------------------------------------\n",
      "MSE = 0.2458337691858702\n",
      "r2 score is  0.7522747676565308\n",
      "test_size=0.2,random_state=1\n",
      "'smoker_no','smoker_yes','age' sex_male\n",
      "--------------------------------------------------\n",
      "MSE = 0.24594244724310538\n",
      "r2 score is  0.752165253422305\n",
      "test_size=0.2,random_state=1\n",
      "'smoker_no','smoker_yes','age' smoker_no\n",
      "--------------------------------------------------\n",
      "MSE = 0.24594244724310538\n",
      "r2 score is  0.752165253422305\n",
      "test_size=0.2,random_state=1\n",
      "'smoker_no','smoker_yes','age' smoker_yes\n",
      "--------------------------------------------------\n",
      "MSE = 0.23438627405030324\n",
      "r2 score is  0.7638103406642608\n",
      "test_size=0.2,random_state=1\n",
      "'smoker_no','smoker_yes','age' classif_N\n",
      "--------------------------------------------------\n",
      "MSE = 0.2437485102446061\n",
      "r2 score is  0.7543760707339383\n",
      "test_size=0.2,random_state=1\n",
      "'smoker_no','smoker_yes','age' classif_OB1\n",
      "--------------------------------------------------\n",
      "MSE = 0.2304456584628077\n",
      "r2 score is  0.767781275638823\n",
      "test_size=0.2,random_state=1\n",
      "'smoker_no','smoker_yes','age' classif_OB2\n",
      "--------------------------------------------------\n",
      "MSE = 0.24592829881357536\n",
      "r2 score is  0.7521795107108957\n",
      "test_size=0.2,random_state=1\n",
      "'smoker_no','smoker_yes','age' classif_OB3\n",
      "--------------------------------------------------\n",
      "MSE = 0.2431650488171584\n",
      "r2 score is  0.7549640213566562\n",
      "test_size=0.2,random_state=1\n",
      "'smoker_no','smoker_yes','age' classif_PREO\n",
      "--------------------------------------------------\n",
      "MSE = 0.2422036294625115\n",
      "r2 score is  0.7559328379427508\n",
      "test_size=0.2,random_state=1\n",
      "'smoker_no','smoker_yes','age' classif_UW\n",
      "--------------------------------------------------\n"
     ]
    }
   ],
   "source": [
    "for columns in df_with_dummies.columns:\n",
    "    x=df_with_dummies[['smoker_no','smoker_yes','age',columns]]\n",
    "    x_train, x_test, y_train, y_test = train_test_split(x, y, test_size=0.2, random_state=1) \n",
    "    model=LinearRegression()\n",
    "    model.fit(x_train,y_train)\n",
    "    y_test_predicted=model.predict(x_test)\n",
    "    print(\"MSE =\",mean_squared_error(y_test_predicted,y_test))\n",
    "    # predicting the accuracy score\n",
    "    score=r2_score(y_test,y_test_predicted)\n",
    "    print(\"r2 score is \",score)\n",
    "    print(\"test_size={},random_state={}\".format(0.2,1))\n",
    "    print(\"'smoker_no','smoker_yes','age'\",columns)\n",
    "    print(\"-\"*50)"
   ]
  },
  {
   "cell_type": "code",
   "execution_count": 44,
   "id": "cfb5c3a2",
   "metadata": {},
   "outputs": [
    {
     "name": "stdout",
     "output_type": "stream",
     "text": [
      "MSE = 0.2183313329226328\n",
      "r2 score is  0.7799888096934925\n",
      "test_size=0.2,random_state=1\n",
      "'smoker_no','smoker_yes','age','bmi' age\n",
      "--------------------------------------------------\n",
      "MSE = 0.21833133292263288\n",
      "r2 score is  0.7799888096934924\n",
      "test_size=0.2,random_state=1\n",
      "'smoker_no','smoker_yes','age','bmi' bmi\n",
      "--------------------------------------------------\n",
      "MSE = 0.21872912790509771\n",
      "r2 score is  0.7795879540470834\n",
      "test_size=0.2,random_state=1\n",
      "'smoker_no','smoker_yes','age','bmi' children\n",
      "--------------------------------------------------\n",
      "MSE = 0.2183367889714797\n",
      "r2 score is  0.7799833116654031\n",
      "test_size=0.2,random_state=1\n",
      "'smoker_no','smoker_yes','age','bmi' sex_female\n",
      "--------------------------------------------------\n",
      "MSE = 0.2183367889714797\n",
      "r2 score is  0.7799833116654031\n",
      "test_size=0.2,random_state=1\n",
      "'smoker_no','smoker_yes','age','bmi' sex_male\n",
      "--------------------------------------------------\n",
      "MSE = 0.2183313329226328\n",
      "r2 score is  0.7799888096934925\n",
      "test_size=0.2,random_state=1\n",
      "'smoker_no','smoker_yes','age','bmi' smoker_no\n",
      "--------------------------------------------------\n",
      "MSE = 0.2183313329226328\n",
      "r2 score is  0.7799888096934925\n",
      "test_size=0.2,random_state=1\n",
      "'smoker_no','smoker_yes','age','bmi' smoker_yes\n",
      "--------------------------------------------------\n",
      "MSE = 0.2183351965974782\n",
      "r2 score is  0.7799849162912478\n",
      "test_size=0.2,random_state=1\n",
      "'smoker_no','smoker_yes','age','bmi' classif_N\n",
      "--------------------------------------------------\n",
      "MSE = 0.21831828530542488\n",
      "r2 score is  0.7800019577000298\n",
      "test_size=0.2,random_state=1\n",
      "'smoker_no','smoker_yes','age','bmi' classif_OB1\n",
      "--------------------------------------------------\n",
      "MSE = 0.2170228769982303\n",
      "r2 score is  0.7813073329743145\n",
      "test_size=0.2,random_state=1\n",
      "'smoker_no','smoker_yes','age','bmi' classif_OB2\n",
      "--------------------------------------------------\n",
      "MSE = 0.21526403823363113\n",
      "r2 score is  0.7830797043741347\n",
      "test_size=0.2,random_state=1\n",
      "'smoker_no','smoker_yes','age','bmi' classif_OB3\n",
      "--------------------------------------------------\n",
      "MSE = 0.2190326103037468\n",
      "r2 score is  0.7792821366324683\n",
      "test_size=0.2,random_state=1\n",
      "'smoker_no','smoker_yes','age','bmi' classif_PREO\n",
      "--------------------------------------------------\n",
      "MSE = 0.21898410749562966\n",
      "r2 score is  0.7793310126247696\n",
      "test_size=0.2,random_state=1\n",
      "'smoker_no','smoker_yes','age','bmi' classif_UW\n",
      "--------------------------------------------------\n"
     ]
    }
   ],
   "source": [
    "for columns in df_with_dummies.columns:\n",
    "    x=df_with_dummies[['smoker_no','smoker_yes','age','bmi',columns]]\n",
    "    x_train, x_test, y_train, y_test = train_test_split(x, y, test_size=0.2, random_state=1) \n",
    "    model=LinearRegression()\n",
    "    model.fit(x_train,y_train)\n",
    "    y_test_predicted=model.predict(x_test)\n",
    "    print(\"MSE =\",mean_squared_error(y_test_predicted,y_test))\n",
    "    # predicting the accuracy score\n",
    "    score=r2_score(y_test,y_test_predicted)\n",
    "    print(\"r2 score is \",score)\n",
    "    print(\"test_size={},random_state={}\".format(0.2,1))\n",
    "    print(\"'smoker_no','smoker_yes','age','bmi'\",columns)\n",
    "    print(\"-\"*50)"
   ]
  },
  {
   "cell_type": "code",
   "execution_count": 45,
   "id": "624350f8",
   "metadata": {},
   "outputs": [
    {
     "name": "stdout",
     "output_type": "stream",
     "text": [
      "MSE = 0.2153063316898754\n",
      "r2 score is  0.7830370855089177\n",
      "test_size=0.2,random_state=1\n",
      "'smoker_no','smoker_yes','age','bmi' age\n",
      "--------------------------------------------------\n",
      "MSE = 0.21530633168987534\n",
      "r2 score is  0.7830370855089177\n",
      "test_size=0.2,random_state=1\n",
      "'smoker_no','smoker_yes','age','bmi' bmi\n",
      "--------------------------------------------------\n",
      "MSE = 0.21522879566061903\n",
      "r2 score is  0.7831152181061036\n",
      "test_size=0.2,random_state=1\n",
      "'smoker_no','smoker_yes','age','bmi' children\n",
      "--------------------------------------------------\n",
      "MSE = 0.2153867551083083\n",
      "r2 score is  0.7829560433067697\n",
      "test_size=0.2,random_state=1\n",
      "'smoker_no','smoker_yes','age','bmi' sex_female\n",
      "--------------------------------------------------\n",
      "MSE = 0.2153867551083083\n",
      "r2 score is  0.7829560433067697\n",
      "test_size=0.2,random_state=1\n",
      "'smoker_no','smoker_yes','age','bmi' sex_male\n",
      "--------------------------------------------------\n",
      "MSE = 0.21530633168987542\n",
      "r2 score is  0.7830370855089176\n",
      "test_size=0.2,random_state=1\n",
      "'smoker_no','smoker_yes','age','bmi' smoker_no\n",
      "--------------------------------------------------\n",
      "MSE = 0.21530633168987542\n",
      "r2 score is  0.7830370855089176\n",
      "test_size=0.2,random_state=1\n",
      "'smoker_no','smoker_yes','age','bmi' smoker_yes\n",
      "--------------------------------------------------\n",
      "MSE = 0.21530633168987542\n",
      "r2 score is  0.7830370855089176\n",
      "test_size=0.2,random_state=1\n",
      "'smoker_no','smoker_yes','age','bmi' classif_N\n",
      "--------------------------------------------------\n",
      "MSE = 0.2153063316898754\n",
      "r2 score is  0.7830370855089177\n",
      "test_size=0.2,random_state=1\n",
      "'smoker_no','smoker_yes','age','bmi' classif_OB1\n",
      "--------------------------------------------------\n",
      "MSE = 0.2153063316898753\n",
      "r2 score is  0.7830370855089177\n",
      "test_size=0.2,random_state=1\n",
      "'smoker_no','smoker_yes','age','bmi' classif_OB2\n",
      "--------------------------------------------------\n",
      "MSE = 0.21530633168987534\n",
      "r2 score is  0.7830370855089177\n",
      "test_size=0.2,random_state=1\n",
      "'smoker_no','smoker_yes','age','bmi' classif_OB3\n",
      "--------------------------------------------------\n",
      "MSE = 0.2153063316898754\n",
      "r2 score is  0.7830370855089177\n",
      "test_size=0.2,random_state=1\n",
      "'smoker_no','smoker_yes','age','bmi' classif_PREO\n",
      "--------------------------------------------------\n",
      "MSE = 0.2153063316898754\n",
      "r2 score is  0.7830370855089177\n",
      "test_size=0.2,random_state=1\n",
      "'smoker_no','smoker_yes','age','bmi' classif_UW\n",
      "--------------------------------------------------\n"
     ]
    }
   ],
   "source": [
    "for columns in df_with_dummies.columns:\n",
    "    x=df_with_dummies[['smoker_no','smoker_yes','age','bmi', 'classif_N', 'classif_OB1', 'classif_OB2',\n",
    "       'classif_OB3', 'classif_PREO', 'classif_UW',columns]]\n",
    "    x_train, x_test, y_train, y_test = train_test_split(x, y, test_size=0.2, random_state=1) \n",
    "    model=LinearRegression()\n",
    "    model.fit(x_train,y_train)\n",
    "    y_test_predicted=model.predict(x_test)\n",
    "    print(\"MSE =\",mean_squared_error(y_test_predicted,y_test))\n",
    "    # predicting the accuracy score\n",
    "    score=r2_score(y_test,y_test_predicted)\n",
    "    print(\"r2 score is \",score)\n",
    "    print(\"test_size={},random_state={}\".format(0.2,1))\n",
    "    print(\"'smoker_no','smoker_yes','age','bmi'\",columns)\n",
    "    print(\"-\"*50)"
   ]
  },
  {
   "cell_type": "markdown",
   "id": "d98eb7e3",
   "metadata": {},
   "source": [
    "finally we can conclude that ['smoker_no','smoker_yes','age','bmi','classif_N','classif_OB1','classif_OB2','classif_OB3','classif_PREO', 'classif_UW'] this columns are useful and we can give this as a input to our mode"
   ]
  },
  {
   "cell_type": "code",
   "execution_count": 46,
   "id": "7b39a8c3",
   "metadata": {},
   "outputs": [],
   "source": [
    "#independent_data.head()"
   ]
  },
  {
   "cell_type": "code",
   "execution_count": 47,
   "id": "4c9c3994",
   "metadata": {},
   "outputs": [],
   "source": [
    "#segregatig the data\n",
    "independent_data=df_with_dummies[['smoker_no','smoker_yes','age','bmi', 'classif_N', 'classif_OB1', \n",
    "                                                'classif_OB2','classif_OB3', 'classif_PREO', 'classif_UW']]\n",
    "dependent_data=df.charges"
   ]
  },
  {
   "cell_type": "code",
   "execution_count": 48,
   "id": "0c94ae99",
   "metadata": {},
   "outputs": [
    {
     "name": "stdout",
     "output_type": "stream",
     "text": [
      "MSE = 0.31786933957090313\n",
      "r2 score is  0.6909902855836636\n",
      "test size=0.15,random_state=0\n",
      ".................\n",
      "MSE = 0.21579405626570028\n",
      "r2 score is  0.769555023366655\n",
      "test size=0.15,random_state=1\n",
      ".................\n",
      "MSE = 0.21358309934026182\n",
      "r2 score is  0.7712122788497329\n",
      "test size=0.15,random_state=2\n",
      ".................\n",
      "MSE = 0.28259876921817884\n",
      "r2 score is  0.736905888642346\n",
      "test size=0.15,random_state=3\n",
      ".................\n",
      "MSE = 0.2684811287698654\n",
      "r2 score is  0.7453107656573204\n",
      "test size=0.15,random_state=4\n",
      ".................\n",
      "MSE = 0.3012044365694959\n",
      "r2 score is  0.7369622799889153\n",
      "test size=0.2,random_state=0\n",
      ".................\n",
      "MSE = 0.21530633168987537\n",
      "r2 score is  0.7830370855089177\n",
      "test size=0.2,random_state=1\n",
      ".................\n",
      "MSE = 0.23216695496008727\n",
      "r2 score is  0.7637952546771316\n",
      "test size=0.2,random_state=2\n",
      ".................\n",
      "MSE = 0.27166191912731\n",
      "r2 score is  0.74223272322739\n",
      "test size=0.2,random_state=3\n",
      ".................\n",
      "MSE = 0.2525489141872219\n",
      "r2 score is  0.762988055426534\n",
      "test size=0.2,random_state=4\n",
      ".................\n",
      "MSE = 0.2965617147673559\n",
      "r2 score is  0.7269594652050734\n",
      "test size=0.25,random_state=0\n",
      ".................\n",
      "MSE = 0.25127716375734394\n",
      "r2 score is  0.7591131878952311\n",
      "test size=0.25,random_state=1\n",
      ".................\n",
      "MSE = 0.23342122902697687\n",
      "r2 score is  0.7573551662767589\n",
      "test size=0.25,random_state=2\n",
      ".................\n",
      "MSE = 0.2583312323271515\n",
      "r2 score is  0.7479429326644708\n",
      "test size=0.25,random_state=3\n",
      ".................\n",
      "MSE = 0.2566669506467044\n",
      "r2 score is  0.7621642982278107\n",
      "test size=0.25,random_state=4\n",
      ".................\n",
      "MSE = 0.26917251668476216\n",
      "r2 score is  0.7423448244282193\n",
      "test size=0.3,random_state=0\n",
      ".................\n",
      "MSE = 0.27450060335508575\n",
      "r2 score is  0.7522334683979109\n",
      "test size=0.3,random_state=1\n",
      ".................\n",
      "MSE = 0.22725852455142306\n",
      "r2 score is  0.7673831824602204\n",
      "test size=0.3,random_state=2\n",
      ".................\n",
      "MSE = 0.2579432663718473\n",
      "r2 score is  0.7480122407758278\n",
      "test size=0.3,random_state=3\n",
      ".................\n",
      "MSE = 0.25166941613454485\n",
      "r2 score is  0.7578162262492748\n",
      "test size=0.3,random_state=4\n",
      ".................\n",
      "MSE = 0.27817739972258393\n",
      "r2 score is  0.7233778598838067\n",
      "test size=0.35,random_state=0\n",
      ".................\n",
      "MSE = 0.27182188527128087\n",
      "r2 score is  0.7434478293959688\n",
      "test size=0.35,random_state=1\n",
      ".................\n",
      "MSE = 0.24797670255115545\n",
      "r2 score is  0.747499848244868\n",
      "test size=0.35,random_state=2\n",
      ".................\n",
      "MSE = 0.24710578738953273\n",
      "r2 score is  0.7473296605270838\n",
      "test size=0.35,random_state=3\n",
      ".................\n",
      "MSE = 0.24617597570459968\n",
      "r2 score is  0.7503621449078949\n",
      "test size=0.35,random_state=4\n",
      ".................\n"
     ]
    }
   ],
   "source": [
    "L_1=[0.15,0.20,0.25,0.30,0.35]\n",
    "L_2=[0,1,2,3,4]\n",
    "\n",
    "for i in L_1:\n",
    "    for j in L_2:\n",
    "        \n",
    "        # spliting the data\n",
    "        Independent_train,Independent_test,Dependent_train,Dependent_test=train_test_split(independent_data,dependent_data,test_size=i,random_state=j)\n",
    "         \n",
    "        theModel=LinearRegression()\n",
    "        theModel.fit(Independent_train,Dependent_train)\n",
    "        dependent_test_Prediction=theModel.predict(Independent_test)\n",
    "        print(\"MSE =\",mean_squared_error(dependent_test_Prediction,Dependent_test))\n",
    "        # predicting the accuracy score\n",
    "        score=r2_score(Dependent_test,dependent_test_Prediction)\n",
    "        print(\"r2 score is \",score)\n",
    "        print(\"test size={},random_state={}\".format(i,j))\n",
    "        print(\".................\")"
   ]
  },
  {
   "cell_type": "code",
   "execution_count": null,
   "id": "a366cae6",
   "metadata": {},
   "outputs": [],
   "source": []
  },
  {
   "cell_type": "code",
   "execution_count": 49,
   "id": "7f7c0378",
   "metadata": {},
   "outputs": [],
   "source": [
    "# spliting the data\n",
    "Independent_train,Independent_test,Dependent_train,Dependent_test=train_test_split(independent_data,dependent_data,test_size=0.2,random_state=1)"
   ]
  },
  {
   "cell_type": "code",
   "execution_count": 50,
   "id": "38e1e84f",
   "metadata": {},
   "outputs": [
    {
     "data": {
      "text/plain": [
       "LinearRegression()"
      ]
     },
     "execution_count": 50,
     "metadata": {},
     "output_type": "execute_result"
    }
   ],
   "source": [
    "#building the model\n",
    "theModel=LinearRegression()\n",
    "theModel.fit(Independent_train,Dependent_train)"
   ]
  },
  {
   "cell_type": "code",
   "execution_count": 51,
   "id": "0ba86dea",
   "metadata": {},
   "outputs": [
    {
     "name": "stdout",
     "output_type": "stream",
     "text": [
      "MSE of the test data: 0.21530633168987537\n",
      "R-square of the test data: 0.7830370855089177\n"
     ]
    }
   ],
   "source": [
    "dependent_test_Prediction=theModel.predict(Independent_test)\n",
    "print(\"MSE of the test data:\",mean_squared_error(dependent_test_Prediction,Dependent_test))\n",
    "print(\"R-square of the test data:\",theModel.score(Independent_test,Dependent_test))"
   ]
  },
  {
   "cell_type": "code",
   "execution_count": 52,
   "id": "1b88bb28",
   "metadata": {},
   "outputs": [],
   "source": [
    "mse_LR=mean_squared_error(dependent_test_Prediction,Dependent_test)\n",
    "r2_LR=theModel.score(Independent_test,Dependent_test)"
   ]
  },
  {
   "cell_type": "code",
   "execution_count": 53,
   "id": "572ed7f8",
   "metadata": {
    "scrolled": false
   },
   "outputs": [
    {
     "data": {
      "image/png": "[encoded data removed]",
      "text/plain": [
       "<Figure size 432x288 with 1 Axes>"
      ]
     },
     "metadata": {
      "needs_background": "light"
     },
     "output_type": "display_data"
    }
   ],
   "source": [
    "sns.regplot(x=Dependent_test,y=dependent_test_Prediction, line_kws={\"color\": \"red\"})\n",
    "plt.xlabel(\"y_Actual Value\")\n",
    "plt.ylabel(\"y_Predicted Value\")\n",
    "plt.show()"
   ]
  },
  {
   "cell_type": "code",
   "execution_count": 54,
   "id": "bcfe6e41",
   "metadata": {},
   "outputs": [
    {
     "data": {
      "text/html": [
       "<table class=\"simpletable\">\n",
       "<caption>OLS Regression Results</caption>\n",
       "<tr>\n",
       "  <th>Dep. Variable:</th>         <td>charges</td>     <th>  R-squared:         </th> <td>   0.749</td>\n",
       "</tr>\n",
       "<tr>\n",
       "  <th>Model:</th>                   <td>OLS</td>       <th>  Adj. R-squared:    </th> <td>   0.747</td>\n",
       "</tr>\n",
       "<tr>\n",
       "  <th>Method:</th>             <td>Least Squares</td>  <th>  F-statistic:       </th> <td>   490.9</td>\n",
       "</tr>\n",
       "<tr>\n",
       "  <th>Date:</th>             <td>Tue, 10 May 2022</td> <th>  Prob (F-statistic):</th>  <td>  0.00</td> \n",
       "</tr>\n",
       "<tr>\n",
       "  <th>Time:</th>                 <td>12:38:16</td>     <th>  Log-Likelihood:    </th> <td> -966.53</td>\n",
       "</tr>\n",
       "<tr>\n",
       "  <th>No. Observations:</th>      <td>  1327</td>      <th>  AIC:               </th> <td>   1951.</td>\n",
       "</tr>\n",
       "<tr>\n",
       "  <th>Df Residuals:</th>          <td>  1318</td>      <th>  BIC:               </th> <td>   1998.</td>\n",
       "</tr>\n",
       "<tr>\n",
       "  <th>Df Model:</th>              <td>     8</td>      <th>                     </th>     <td> </td>   \n",
       "</tr>\n",
       "<tr>\n",
       "  <th>Covariance Type:</th>      <td>nonrobust</td>    <th>                     </th>     <td> </td>   \n",
       "</tr>\n",
       "</table>\n",
       "<table class=\"simpletable\">\n",
       "<tr>\n",
       "        <td></td>          <th>coef</th>     <th>std err</th>      <th>t</th>      <th>P>|t|</th>  <th>[0.025</th>    <th>0.975]</th>  \n",
       "</tr>\n",
       "<tr>\n",
       "  <th>smoker_no</th>    <td>   -0.5645</td> <td>    0.020</td> <td>  -27.791</td> <td> 0.000</td> <td>   -0.604</td> <td>   -0.525</td>\n",
       "</tr>\n",
       "<tr>\n",
       "  <th>smoker_yes</th>   <td>    1.4064</td> <td>    0.030</td> <td>   46.372</td> <td> 0.000</td> <td>    1.347</td> <td>    1.466</td>\n",
       "</tr>\n",
       "<tr>\n",
       "  <th>age</th>          <td>    0.2963</td> <td>    0.014</td> <td>   21.264</td> <td> 0.000</td> <td>    0.269</td> <td>    0.324</td>\n",
       "</tr>\n",
       "<tr>\n",
       "  <th>bmi</th>          <td>    0.0233</td> <td>    0.054</td> <td>    0.429</td> <td> 0.668</td> <td>   -0.083</td> <td>    0.130</td>\n",
       "</tr>\n",
       "<tr>\n",
       "  <th>classif_N</th>    <td>   -0.0235</td> <td>    0.076</td> <td>   -0.309</td> <td> 0.758</td> <td>   -0.173</td> <td>    0.126</td>\n",
       "</tr>\n",
       "<tr>\n",
       "  <th>classif_OB1</th>  <td>    0.2791</td> <td>    0.035</td> <td>    7.972</td> <td> 0.000</td> <td>    0.210</td> <td>    0.348</td>\n",
       "</tr>\n",
       "<tr>\n",
       "  <th>classif_OB2</th>  <td>    0.3578</td> <td>    0.073</td> <td>    4.890</td> <td> 0.000</td> <td>    0.214</td> <td>    0.501</td>\n",
       "</tr>\n",
       "<tr>\n",
       "  <th>classif_OB3</th>  <td>    0.3071</td> <td>    0.123</td> <td>    2.499</td> <td> 0.013</td> <td>    0.066</td> <td>    0.548</td>\n",
       "</tr>\n",
       "<tr>\n",
       "  <th>classif_PREO</th> <td>    0.0216</td> <td>    0.036</td> <td>    0.596</td> <td> 0.551</td> <td>   -0.050</td> <td>    0.093</td>\n",
       "</tr>\n",
       "<tr>\n",
       "  <th>classif_UW</th>   <td>   -0.1003</td> <td>    0.151</td> <td>   -0.662</td> <td> 0.508</td> <td>   -0.397</td> <td>    0.197</td>\n",
       "</tr>\n",
       "</table>\n",
       "<table class=\"simpletable\">\n",
       "<tr>\n",
       "  <th>Omnibus:</th>       <td>325.482</td> <th>  Durbin-Watson:     </th> <td>   2.081</td> \n",
       "</tr>\n",
       "<tr>\n",
       "  <th>Prob(Omnibus):</th> <td> 0.000</td>  <th>  Jarque-Bera (JB):  </th> <td> 808.803</td> \n",
       "</tr>\n",
       "<tr>\n",
       "  <th>Skew:</th>          <td> 1.304</td>  <th>  Prob(JB):          </th> <td>2.35e-176</td>\n",
       "</tr>\n",
       "<tr>\n",
       "  <th>Kurtosis:</th>      <td> 5.797</td>  <th>  Cond. No.          </th> <td>3.19e+15</td> \n",
       "</tr>\n",
       "</table><br/><br/>Notes:<br/>[1] Standard Errors assume that the covariance matrix of the errors is correctly specified.<br/>[2] The smallest eigenvalue is 1.59e-28. This might indicate that there are<br/>strong multicollinearity problems or that the design matrix is singular."
      ],
      "text/plain": [
       "<class 'statsmodels.iolib.summary.Summary'>\n",
       "\"\"\"\n",
       "                            OLS Regression Results                            \n",
       "==============================================================================\n",
       "Dep. Variable:                charges   R-squared:                       0.749\n",
       "Model:                            OLS   Adj. R-squared:                  0.747\n",
       "Method:                 Least Squares   F-statistic:                     490.9\n",
       "Date:                Tue, 10 May 2022   Prob (F-statistic):               0.00\n",
       "Time:                        12:38:16   Log-Likelihood:                -966.53\n",
       "No. Observations:                1327   AIC:                             1951.\n",
       "Df Residuals:                    1318   BIC:                             1998.\n",
       "Df Model:                           8                                         \n",
       "Covariance Type:            nonrobust                                         \n",
       "================================================================================\n",
       "                   coef    std err          t      P>|t|      [0.025      0.975]\n",
       "--------------------------------------------------------------------------------\n",
       "smoker_no       -0.5645      0.020    -27.791      0.000      -0.604      -0.525\n",
       "smoker_yes       1.4064      0.030     46.372      0.000       1.347       1.466\n",
       "age              0.2963      0.014     21.264      0.000       0.269       0.324\n",
       "bmi              0.0233      0.054      0.429      0.668      -0.083       0.130\n",
       "classif_N       -0.0235      0.076     -0.309      0.758      -0.173       0.126\n",
       "classif_OB1      0.2791      0.035      7.972      0.000       0.210       0.348\n",
       "classif_OB2      0.3578      0.073      4.890      0.000       0.214       0.501\n",
       "classif_OB3      0.3071      0.123      2.499      0.013       0.066       0.548\n",
       "classif_PREO     0.0216      0.036      0.596      0.551      -0.050       0.093\n",
       "classif_UW      -0.1003      0.151     -0.662      0.508      -0.397       0.197\n",
       "==============================================================================\n",
       "Omnibus:                      325.482   Durbin-Watson:                   2.081\n",
       "Prob(Omnibus):                  0.000   Jarque-Bera (JB):              808.803\n",
       "Skew:                           1.304   Prob(JB):                    2.35e-176\n",
       "Kurtosis:                       5.797   Cond. No.                     3.19e+15\n",
       "==============================================================================\n",
       "\n",
       "Notes:\n",
       "[1] Standard Errors assume that the covariance matrix of the errors is correctly specified.\n",
       "[2] The smallest eigenvalue is 1.59e-28. This might indicate that there are\n",
       "strong multicollinearity problems or that the design matrix is singular.\n",
       "\"\"\""
      ]
     },
     "execution_count": 54,
     "metadata": {},
     "output_type": "execute_result"
    }
   ],
   "source": [
    "import statsmodels.api as sm\n",
    "model = sm.OLS(dependent_data,independent_data).fit()\n",
    "model.summary()  "
   ]
  },
  {
   "cell_type": "markdown",
   "id": "23c9e7e4",
   "metadata": {},
   "source": [
    "interpretation 1:we can see that R2 is 0.74 which is quit good \n",
    "interpretation 2: we can see that AIC BIC is also low\n",
    "interperation 3: P value is also low  for children and age which is 0.001 \n",
    "interpreation 4 :MSe value is 0.264    \n",
    "\n",
    "finallly we can say that this model is acceptable or good to go."
   ]
  },
  {
   "cell_type": "code",
   "execution_count": 55,
   "id": "b2e80211",
   "metadata": {},
   "outputs": [],
   "source": [
    "from sklearn.model_selection import train_test_split\n",
    "from sklearn.model_selection import KFold\n",
    "from sklearn.model_selection import cross_val_score\n",
    "from sklearn.linear_model import LinearRegression\n",
    "from numpy import mean\n",
    "from numpy import absolute\n",
    "from numpy import sqrt"
   ]
  },
  {
   "cell_type": "code",
   "execution_count": null,
   "id": "708f6b8b",
   "metadata": {},
   "outputs": [],
   "source": []
  },
  {
   "cell_type": "code",
   "execution_count": 56,
   "id": "d457acc9",
   "metadata": {},
   "outputs": [
    {
     "data": {
      "text/plain": [
       "0.5134589128322433"
      ]
     },
     "execution_count": 56,
     "metadata": {},
     "output_type": "execute_result"
    }
   ],
   "source": [
    "#define cross-validation method to use\n",
    "cv = KFold(n_splits=5, random_state=1, shuffle=True) \n",
    "\n",
    "#build multiple linear regression model\n",
    "model = LinearRegression()\n",
    "\n",
    "#use LOOCV to evaluate model\n",
    "scores = cross_val_score(model, Independent_train, Dependent_train, scoring='neg_mean_squared_error',\n",
    "                         cv=cv, n_jobs=-1)\n",
    "\n",
    "#view RMSE\n",
    "sqrt(mean(absolute(scores)))"
   ]
  },
  {
   "cell_type": "markdown",
   "id": "1d79b518",
   "metadata": {},
   "source": [
    "###  ridge regression"
   ]
  },
  {
   "cell_type": "code",
   "execution_count": 57,
   "id": "bce0a63e",
   "metadata": {},
   "outputs": [],
   "source": [
    "from sklearn.linear_model import Ridge"
   ]
  },
  {
   "cell_type": "code",
   "execution_count": 58,
   "id": "16b95396",
   "metadata": {},
   "outputs": [],
   "source": [
    "myRidge=Ridge(alpha=1).fit(Independent_train,Dependent_train)"
   ]
  },
  {
   "cell_type": "code",
   "execution_count": 59,
   "id": "3eb5e0e2",
   "metadata": {},
   "outputs": [],
   "source": [
    "prediction1=myRidge.predict(Independent_test)"
   ]
  },
  {
   "cell_type": "code",
   "execution_count": 60,
   "id": "87702799",
   "metadata": {},
   "outputs": [],
   "source": [
    "mse_ridge=mean_squared_error(Dependent_test,prediction1)\n",
    "r2_ridge=myRidge.score(Independent_test,Dependent_test)"
   ]
  },
  {
   "cell_type": "code",
   "execution_count": 61,
   "id": "21101cfb",
   "metadata": {},
   "outputs": [
    {
     "name": "stdout",
     "output_type": "stream",
     "text": [
      "R-square of the entire data: 0.7828278925048094\n"
     ]
    }
   ],
   "source": [
    "print(\"R-square of the entire data:\",myRidge.score(Independent_test,Dependent_test))"
   ]
  },
  {
   "cell_type": "code",
   "execution_count": 62,
   "id": "ef4a0b81",
   "metadata": {},
   "outputs": [
    {
     "data": {
      "text/plain": [
       "0.327919451317369"
      ]
     },
     "execution_count": 62,
     "metadata": {},
     "output_type": "execute_result"
    }
   ],
   "source": [
    "mean_absolute_error(Dependent_test,prediction1)"
   ]
  },
  {
   "cell_type": "code",
   "execution_count": 63,
   "id": "7acf70dd",
   "metadata": {},
   "outputs": [
    {
     "data": {
      "image/png": "[encoded data removed]",
      "text/plain": [
       "<Figure size 432x288 with 1 Axes>"
      ]
     },
     "metadata": {
      "needs_background": "light"
     },
     "output_type": "display_data"
    }
   ],
   "source": [
    "sns.regplot(x=Dependent_test,y=dependent_test_Prediction,scatter_kws={\"color\": \"green\"}, line_kws={\"color\": \"yellow\"})\n",
    "plt.xlabel(\"y_Actual Value\")\n",
    "plt.ylabel(\"y_Predicted Value\")\n",
    "plt.show()"
   ]
  },
  {
   "cell_type": "markdown",
   "id": "cbb06683",
   "metadata": {},
   "source": [
    "## Lasso"
   ]
  },
  {
   "cell_type": "code",
   "execution_count": 64,
   "id": "ada9376f",
   "metadata": {},
   "outputs": [],
   "source": [
    "from sklearn.linear_model import Lasso"
   ]
  },
  {
   "cell_type": "code",
   "execution_count": 65,
   "id": "66b56bc6",
   "metadata": {},
   "outputs": [],
   "source": [
    "myLasso=Lasso(alpha=0.01).fit(Independent_train,Dependent_train)"
   ]
  },
  {
   "cell_type": "code",
   "execution_count": 66,
   "id": "ce2a3ecc",
   "metadata": {},
   "outputs": [],
   "source": [
    "prediction2=myLasso.predict(Independent_test)"
   ]
  },
  {
   "cell_type": "code",
   "execution_count": 67,
   "id": "82e809b0",
   "metadata": {},
   "outputs": [],
   "source": [
    "mse_lasso=mean_squared_error(Dependent_test,prediction2)\n",
    "r2_lasso=myLasso.score(Independent_test,Dependent_test)"
   ]
  },
  {
   "cell_type": "code",
   "execution_count": 68,
   "id": "fa22fb5e",
   "metadata": {},
   "outputs": [
    {
     "data": {
      "text/plain": [
       "0.3295382628851165"
      ]
     },
     "execution_count": 68,
     "metadata": {},
     "output_type": "execute_result"
    }
   ],
   "source": [
    "mean_absolute_error(Dependent_test,prediction2)"
   ]
  },
  {
   "cell_type": "code",
   "execution_count": 69,
   "id": "1e7a9bb6",
   "metadata": {},
   "outputs": [
    {
     "name": "stdout",
     "output_type": "stream",
     "text": [
      "R-square of the entire data: 0.7777704934354602\n"
     ]
    }
   ],
   "source": [
    "print(\"R-square of the entire data:\",myLasso.score(Independent_test,Dependent_test))"
   ]
  },
  {
   "cell_type": "code",
   "execution_count": 70,
   "id": "f50ae954",
   "metadata": {},
   "outputs": [
    {
     "data": {
      "image/png": "[encoded data removed]",
      "text/plain": [
       "<Figure size 432x288 with 1 Axes>"
      ]
     },
     "metadata": {
      "needs_background": "light"
     },
     "output_type": "display_data"
    }
   ],
   "source": [
    "sns.regplot(x=Dependent_test,y=dependent_test_Prediction,\n",
    "            scatter_kws={\"color\": \"black\"}, line_kws={\"color\": \"red\"})\n",
    "plt.xlabel(\"y_Actual Value\")\n",
    "plt.ylabel(\"y_Predicted Value\")\n",
    "plt.show()"
   ]
  },
  {
   "cell_type": "markdown",
   "id": "5bfc1553",
   "metadata": {},
   "source": [
    "### Decision Tree Regresser"
   ]
  },
  {
   "cell_type": "code",
   "execution_count": 71,
   "id": "db9af9d2",
   "metadata": {},
   "outputs": [
    {
     "data": {
      "text/plain": [
       "DecisionTreeRegressor(max_depth=4, max_leaf_nodes=10, min_samples_split=5)"
      ]
     },
     "execution_count": 71,
     "metadata": {},
     "output_type": "execute_result"
    }
   ],
   "source": [
    "dtm = DecisionTreeRegressor(max_depth=4,min_samples_split=5,max_leaf_nodes=10)\n",
    "dtm.fit(Independent_train,Dependent_train)"
   ]
  },
  {
   "cell_type": "code",
   "execution_count": 72,
   "id": "6782c5ca",
   "metadata": {},
   "outputs": [],
   "source": [
    "#dtm.fit(Independent_test,Dependent_test)"
   ]
  },
  {
   "cell_type": "code",
   "execution_count": 73,
   "id": "5d783166",
   "metadata": {},
   "outputs": [],
   "source": [
    "#Predict the response for test dataset\n",
    "y_pred = dtm.predict(Independent_test)"
   ]
  },
  {
   "cell_type": "code",
   "execution_count": 74,
   "id": "25ac7ca7",
   "metadata": {},
   "outputs": [
    {
     "name": "stdout",
     "output_type": "stream",
     "text": [
      "R-Squared on test dataset=0.8488186737361937\n"
     ]
    }
   ],
   "source": [
    "print(\"R-Squared on test dataset={}\".format(dtm.score(Independent_test,Dependent_test)))"
   ]
  },
  {
   "cell_type": "code",
   "execution_count": 75,
   "id": "a96fe634",
   "metadata": {},
   "outputs": [
    {
     "name": "stdout",
     "output_type": "stream",
     "text": [
      "R-Squared on train dataset=0.8548598449140389\n"
     ]
    }
   ],
   "source": [
    "print(\"R-Squared on train dataset={}\".format(dtm.score(Independent_train,Dependent_train)))"
   ]
  },
  {
   "cell_type": "code",
   "execution_count": 76,
   "id": "7f97cbc8",
   "metadata": {},
   "outputs": [],
   "source": [
    "mse_DT = mean_absolute_error(Dependent_test, y_pred)"
   ]
  },
  {
   "cell_type": "code",
   "execution_count": 77,
   "id": "f27ed718",
   "metadata": {},
   "outputs": [],
   "source": [
    "r2_DT=dtm.score(Independent_test,Dependent_test)"
   ]
  },
  {
   "cell_type": "code",
   "execution_count": 78,
   "id": "c276293d",
   "metadata": {},
   "outputs": [
    {
     "data": {
      "image/png": "[encoded data removed]",
      "text/plain": [
       "<Figure size 1800x1200 with 1 Axes>"
      ]
     },
     "metadata": {
      "needs_background": "light"
     },
     "output_type": "display_data"
    }
   ],
   "source": [
    "# Setting dpi = 300 to make image clearer than default\n",
    "fig, axes = plt.subplots(dpi=300)\n",
    "\n",
    "tree.plot_tree(dtm,\n",
    "           filled = True);\n",
    "\n",
    "#save figure in current directory as png\n",
    "fig.savefig('regression_decisiontree.png')"
   ]
  },
  {
   "cell_type": "markdown",
   "id": "af3b82be",
   "metadata": {},
   "source": [
    "### Random Forest"
   ]
  },
  {
   "cell_type": "code",
   "execution_count": 79,
   "id": "753bf9f8",
   "metadata": {},
   "outputs": [
    {
     "name": "stdout",
     "output_type": "stream",
     "text": [
      "r2 socre is  0.8290836909713923\n"
     ]
    }
   ],
   "source": [
    "from sklearn.ensemble import RandomForestRegressor\n",
    "model=RandomForestRegressor()\n",
    "model.fit(Independent_train,Dependent_train)\n",
    "y_pred=model.predict(Independent_test)\n",
    "y_pred\n",
    "\n",
    "\n",
    "\n",
    "# predicting the accuracy score\n",
    "score=r2_score(Dependent_test,y_pred)\n",
    "print(\"r2 socre is \",score)"
   ]
  },
  {
   "cell_type": "code",
   "execution_count": 80,
   "id": "05a23007",
   "metadata": {},
   "outputs": [],
   "source": [
    "mse_RF=mean_squared_error(Dependent_test,y_pred)\n",
    "r2_RF=model.score(Independent_test,Dependent_test)"
   ]
  },
  {
   "cell_type": "code",
   "execution_count": 81,
   "id": "578e1a70",
   "metadata": {},
   "outputs": [
    {
     "data": {
      "text/html": [
       "<div>\n",
       "<style scoped>\n",
       "    .dataframe tbody tr th:only-of-type {\n",
       "        vertical-align: middle;\n",
       "    }\n",
       "\n",
       "    .dataframe tbody tr th {\n",
       "        vertical-align: top;\n",
       "    }\n",
       "\n",
       "    .dataframe thead th {\n",
       "        text-align: right;\n",
       "    }\n",
       "</style>\n",
       "<table border=\"1\" class=\"dataframe\">\n",
       "  <thead>\n",
       "    <tr style=\"text-align: right;\">\n",
       "      <th></th>\n",
       "      <th>prediction</th>\n",
       "      <th>charges</th>\n",
       "    </tr>\n",
       "  </thead>\n",
       "  <tbody>\n",
       "    <tr>\n",
       "      <th>6</th>\n",
       "      <td>-0.679681</td>\n",
       "      <td>-0.415954</td>\n",
       "    </tr>\n",
       "    <tr>\n",
       "      <th>8</th>\n",
       "      <td>-0.765261</td>\n",
       "      <td>-0.568883</td>\n",
       "    </tr>\n",
       "    <tr>\n",
       "      <th>12</th>\n",
       "      <td>-0.592960</td>\n",
       "      <td>-0.950714</td>\n",
       "    </tr>\n",
       "    <tr>\n",
       "      <th>19</th>\n",
       "      <td>-0.053971</td>\n",
       "      <td>1.968375</td>\n",
       "    </tr>\n",
       "    <tr>\n",
       "      <th>27</th>\n",
       "      <td>-0.902402</td>\n",
       "      <td>-0.080107</td>\n",
       "    </tr>\n",
       "  </tbody>\n",
       "</table>\n",
       "</div>"
      ],
      "text/plain": [
       "    prediction   charges\n",
       "6    -0.679681 -0.415954\n",
       "8    -0.765261 -0.568883\n",
       "12   -0.592960 -0.950714\n",
       "19   -0.053971  1.968375\n",
       "27   -0.902402 -0.080107"
      ]
     },
     "execution_count": 81,
     "metadata": {},
     "output_type": "execute_result"
    }
   ],
   "source": [
    "series_pred = pd.Series(y_pred)\n",
    "df4 = pd.DataFrame(data=series_pred, columns=['prediction'])\n",
    "df5 = pd.merge(df4, Dependent_test, left_index=True, right_index=True)\n",
    "df5.head()"
   ]
  },
  {
   "cell_type": "markdown",
   "id": "3c2cdb5f",
   "metadata": {},
   "source": [
    "### KNeighborsRegressor"
   ]
  },
  {
   "cell_type": "code",
   "execution_count": 82,
   "id": "c978f210",
   "metadata": {},
   "outputs": [],
   "source": [
    "from sklearn.neighbors import KNeighborsRegressor\n",
    "list1=[]\n",
    "list2=[]\n",
    "for i in np.arange(1,21,1):\n",
    "    thismodel1 = KNeighborsRegressor(n_neighbors=i)\n",
    "    thismodel1.fit(Independent_train,Dependent_train)\n",
    "    Y_pred = thismodel1.predict(Independent_test)\n",
    "    acc_log = round(thismodel1.score(Independent_train,Dependent_train) * 100, 2)\n",
    "    list1.append(i)\n",
    "    list2.append(acc_log)\n",
    "    "
   ]
  },
  {
   "cell_type": "code",
   "execution_count": 83,
   "id": "c96dd1f2",
   "metadata": {},
   "outputs": [
    {
     "data": {
      "text/html": [
       "<div>\n",
       "<style scoped>\n",
       "    .dataframe tbody tr th:only-of-type {\n",
       "        vertical-align: middle;\n",
       "    }\n",
       "\n",
       "    .dataframe tbody tr th {\n",
       "        vertical-align: top;\n",
       "    }\n",
       "\n",
       "    .dataframe thead th {\n",
       "        text-align: right;\n",
       "    }\n",
       "</style>\n",
       "<table border=\"1\" class=\"dataframe\">\n",
       "  <thead>\n",
       "    <tr style=\"text-align: right;\">\n",
       "      <th></th>\n",
       "      <th>k-value</th>\n",
       "      <th>R-squared</th>\n",
       "    </tr>\n",
       "  </thead>\n",
       "  <tbody>\n",
       "    <tr>\n",
       "      <th>0</th>\n",
       "      <td>1</td>\n",
       "      <td>99.30</td>\n",
       "    </tr>\n",
       "    <tr>\n",
       "      <th>1</th>\n",
       "      <td>2</td>\n",
       "      <td>92.36</td>\n",
       "    </tr>\n",
       "    <tr>\n",
       "      <th>2</th>\n",
       "      <td>3</td>\n",
       "      <td>89.59</td>\n",
       "    </tr>\n",
       "    <tr>\n",
       "      <th>3</th>\n",
       "      <td>4</td>\n",
       "      <td>88.67</td>\n",
       "    </tr>\n",
       "    <tr>\n",
       "      <th>4</th>\n",
       "      <td>5</td>\n",
       "      <td>87.92</td>\n",
       "    </tr>\n",
       "    <tr>\n",
       "      <th>5</th>\n",
       "      <td>6</td>\n",
       "      <td>87.59</td>\n",
       "    </tr>\n",
       "    <tr>\n",
       "      <th>6</th>\n",
       "      <td>7</td>\n",
       "      <td>87.25</td>\n",
       "    </tr>\n",
       "    <tr>\n",
       "      <th>7</th>\n",
       "      <td>8</td>\n",
       "      <td>86.81</td>\n",
       "    </tr>\n",
       "    <tr>\n",
       "      <th>8</th>\n",
       "      <td>9</td>\n",
       "      <td>86.65</td>\n",
       "    </tr>\n",
       "    <tr>\n",
       "      <th>9</th>\n",
       "      <td>10</td>\n",
       "      <td>86.32</td>\n",
       "    </tr>\n",
       "    <tr>\n",
       "      <th>10</th>\n",
       "      <td>11</td>\n",
       "      <td>86.15</td>\n",
       "    </tr>\n",
       "    <tr>\n",
       "      <th>11</th>\n",
       "      <td>12</td>\n",
       "      <td>85.78</td>\n",
       "    </tr>\n",
       "    <tr>\n",
       "      <th>12</th>\n",
       "      <td>13</td>\n",
       "      <td>85.35</td>\n",
       "    </tr>\n",
       "    <tr>\n",
       "      <th>13</th>\n",
       "      <td>14</td>\n",
       "      <td>84.87</td>\n",
       "    </tr>\n",
       "    <tr>\n",
       "      <th>14</th>\n",
       "      <td>15</td>\n",
       "      <td>84.51</td>\n",
       "    </tr>\n",
       "    <tr>\n",
       "      <th>15</th>\n",
       "      <td>16</td>\n",
       "      <td>84.24</td>\n",
       "    </tr>\n",
       "    <tr>\n",
       "      <th>16</th>\n",
       "      <td>17</td>\n",
       "      <td>83.83</td>\n",
       "    </tr>\n",
       "    <tr>\n",
       "      <th>17</th>\n",
       "      <td>18</td>\n",
       "      <td>83.57</td>\n",
       "    </tr>\n",
       "    <tr>\n",
       "      <th>18</th>\n",
       "      <td>19</td>\n",
       "      <td>83.15</td>\n",
       "    </tr>\n",
       "    <tr>\n",
       "      <th>19</th>\n",
       "      <td>20</td>\n",
       "      <td>82.91</td>\n",
       "    </tr>\n",
       "  </tbody>\n",
       "</table>\n",
       "</div>"
      ],
      "text/plain": [
       "    k-value  R-squared\n",
       "0         1      99.30\n",
       "1         2      92.36\n",
       "2         3      89.59\n",
       "3         4      88.67\n",
       "4         5      87.92\n",
       "5         6      87.59\n",
       "6         7      87.25\n",
       "7         8      86.81\n",
       "8         9      86.65\n",
       "9        10      86.32\n",
       "10       11      86.15\n",
       "11       12      85.78\n",
       "12       13      85.35\n",
       "13       14      84.87\n",
       "14       15      84.51\n",
       "15       16      84.24\n",
       "16       17      83.83\n",
       "17       18      83.57\n",
       "18       19      83.15\n",
       "19       20      82.91"
      ]
     },
     "execution_count": 83,
     "metadata": {},
     "output_type": "execute_result"
    }
   ],
   "source": [
    "accuracy=pd.DataFrame(list(zip(list1,list2)),columns=['k-value','R-squared'])\n",
    "accuracy"
   ]
  },
  {
   "cell_type": "markdown",
   "id": "ba56c594",
   "metadata": {},
   "source": [
    "#### since for k value =1 we are getting very low bias   so it case of overfitting  so we  can choose  k values as 3 or 5"
   ]
  },
  {
   "cell_type": "code",
   "execution_count": 84,
   "id": "3b25719b",
   "metadata": {},
   "outputs": [],
   "source": [
    "thismodel1 = KNeighborsRegressor(n_neighbors=3)\n",
    "thismodel1.fit(Independent_train,Dependent_train)\n",
    "Y_pred = thismodel1.predict(Independent_test)\n",
    "acc_log = round(thismodel1.score(Independent_train,Dependent_train) * 100, 2)"
   ]
  },
  {
   "cell_type": "code",
   "execution_count": 85,
   "id": "26e12a9a",
   "metadata": {},
   "outputs": [],
   "source": [
    "acc_KNN=thismodel1.score(Independent_test,Dependent_test)"
   ]
  },
  {
   "cell_type": "code",
   "execution_count": 86,
   "id": "0d7a0a5a",
   "metadata": {},
   "outputs": [
    {
     "data": {
      "text/plain": [
       "0.8222530407893189"
      ]
     },
     "execution_count": 86,
     "metadata": {},
     "output_type": "execute_result"
    }
   ],
   "source": [
    "acc_KNN"
   ]
  },
  {
   "cell_type": "code",
   "execution_count": 87,
   "id": "258fed06",
   "metadata": {},
   "outputs": [],
   "source": [
    "mse_knn=metrics.mean_absolute_error(Dependent_test,Y_pred )"
   ]
  },
  {
   "cell_type": "code",
   "execution_count": 88,
   "id": "5d72164f",
   "metadata": {
    "scrolled": true
   },
   "outputs": [
    {
     "data": {
      "text/html": [
       "<div>\n",
       "<style scoped>\n",
       "    .dataframe tbody tr th:only-of-type {\n",
       "        vertical-align: middle;\n",
       "    }\n",
       "\n",
       "    .dataframe tbody tr th {\n",
       "        vertical-align: top;\n",
       "    }\n",
       "\n",
       "    .dataframe thead th {\n",
       "        text-align: right;\n",
       "    }\n",
       "</style>\n",
       "<table border=\"1\" class=\"dataframe\">\n",
       "  <thead>\n",
       "    <tr style=\"text-align: right;\">\n",
       "      <th></th>\n",
       "      <th>prediction</th>\n",
       "      <th>charges</th>\n",
       "    </tr>\n",
       "  </thead>\n",
       "  <tbody>\n",
       "    <tr>\n",
       "      <th>6</th>\n",
       "      <td>-0.720688</td>\n",
       "      <td>-0.415954</td>\n",
       "    </tr>\n",
       "    <tr>\n",
       "      <th>8</th>\n",
       "      <td>-0.781184</td>\n",
       "      <td>-0.568883</td>\n",
       "    </tr>\n",
       "    <tr>\n",
       "      <th>12</th>\n",
       "      <td>-0.609493</td>\n",
       "      <td>-0.950714</td>\n",
       "    </tr>\n",
       "    <tr>\n",
       "      <th>19</th>\n",
       "      <td>-0.052129</td>\n",
       "      <td>1.968375</td>\n",
       "    </tr>\n",
       "    <tr>\n",
       "      <th>27</th>\n",
       "      <td>-0.877372</td>\n",
       "      <td>-0.080107</td>\n",
       "    </tr>\n",
       "  </tbody>\n",
       "</table>\n",
       "</div>"
      ],
      "text/plain": [
       "    prediction   charges\n",
       "6    -0.720688 -0.415954\n",
       "8    -0.781184 -0.568883\n",
       "12   -0.609493 -0.950714\n",
       "19   -0.052129  1.968375\n",
       "27   -0.877372 -0.080107"
      ]
     },
     "execution_count": 88,
     "metadata": {},
     "output_type": "execute_result"
    }
   ],
   "source": [
    "series_pred = pd.Series(Y_pred)\n",
    "\n",
    "\n",
    "df2 = pd.DataFrame(data=series_pred, columns=['prediction'])\n",
    "df3 = pd.merge(df2, Dependent_test, left_index=True, right_index=True)\n",
    "df3.head()"
   ]
  },
  {
   "cell_type": "code",
   "execution_count": 89,
   "id": "762de10b",
   "metadata": {},
   "outputs": [
    {
     "data": {
      "text/plain": [
       "0.8290836909713923"
      ]
     },
     "execution_count": 89,
     "metadata": {},
     "output_type": "execute_result"
    }
   ],
   "source": [
    "r2_RF"
   ]
  },
  {
   "cell_type": "markdown",
   "id": "1975755e",
   "metadata": {},
   "source": [
    "###  comparison of different models"
   ]
  },
  {
   "cell_type": "code",
   "execution_count": 90,
   "id": "05c9f4f9",
   "metadata": {},
   "outputs": [],
   "source": [
    "DF_comp=pd.DataFrame({'MSE':[mse_LR,mse_ridge,mse_lasso,mse_RF,mse_DT,mse_knn],'R2':[r2_LR,r2_ridge,r2_lasso,r2_RF,r2_DT,acc_KNN]})\n",
    "DF_comp = DF_comp.rename(index={0: \"LR\" ,1:\"ridge\",2:\"lasso\",3:\"RandomForest\",4:\"DecisionTree\",5:\"KNN\"})\n"
   ]
  },
  {
   "cell_type": "code",
   "execution_count": 91,
   "id": "7850dd8f",
   "metadata": {
    "scrolled": true
   },
   "outputs": [
    {
     "data": {
      "text/html": [
       "<div>\n",
       "<style scoped>\n",
       "    .dataframe tbody tr th:only-of-type {\n",
       "        vertical-align: middle;\n",
       "    }\n",
       "\n",
       "    .dataframe tbody tr th {\n",
       "        vertical-align: top;\n",
       "    }\n",
       "\n",
       "    .dataframe thead th {\n",
       "        text-align: right;\n",
       "    }\n",
       "</style>\n",
       "<table border=\"1\" class=\"dataframe\">\n",
       "  <thead>\n",
       "    <tr style=\"text-align: right;\">\n",
       "      <th></th>\n",
       "      <th>MSE</th>\n",
       "      <th>R2</th>\n",
       "    </tr>\n",
       "  </thead>\n",
       "  <tbody>\n",
       "    <tr>\n",
       "      <th>LR</th>\n",
       "      <td>0.215306</td>\n",
       "      <td>0.783037</td>\n",
       "    </tr>\n",
       "    <tr>\n",
       "      <th>ridge</th>\n",
       "      <td>0.215514</td>\n",
       "      <td>0.782828</td>\n",
       "    </tr>\n",
       "    <tr>\n",
       "      <th>lasso</th>\n",
       "      <td>0.220533</td>\n",
       "      <td>0.777770</td>\n",
       "    </tr>\n",
       "    <tr>\n",
       "      <th>RandomForest</th>\n",
       "      <td>0.169611</td>\n",
       "      <td>0.829084</td>\n",
       "    </tr>\n",
       "    <tr>\n",
       "      <th>DecisionTree</th>\n",
       "      <td>0.233168</td>\n",
       "      <td>0.848819</td>\n",
       "    </tr>\n",
       "    <tr>\n",
       "      <th>KNN</th>\n",
       "      <td>0.238805</td>\n",
       "      <td>0.822253</td>\n",
       "    </tr>\n",
       "  </tbody>\n",
       "</table>\n",
       "</div>"
      ],
      "text/plain": [
       "                   MSE        R2\n",
       "LR            0.215306  0.783037\n",
       "ridge         0.215514  0.782828\n",
       "lasso         0.220533  0.777770\n",
       "RandomForest  0.169611  0.829084\n",
       "DecisionTree  0.233168  0.848819\n",
       "KNN           0.238805  0.822253"
      ]
     },
     "execution_count": 91,
     "metadata": {},
     "output_type": "execute_result"
    }
   ],
   "source": [
    "DF_comp"
   ]
  },
  {
   "cell_type": "markdown",
   "id": "3a3f2dc5",
   "metadata": {},
   "source": [
    " After comparing all the models we can conclude that Random Forest model is best as MSE is low i.e 0.17 as compare to other models and r2 is 0.82 which is a good model."
   ]
  },
  {
   "cell_type": "markdown",
   "id": "5a0e3743",
   "metadata": {},
   "source": [
    "## "
   ]
  }
 ],
 "metadata": {
  "kernelspec": {
   "display_name": "Python 3",
   "language": "python",
   "name": "python3"
  },
  "language_info": {
   "codemirror_mode": {
    "name": "ipython",
    "version": 3
   },
   "file_extension": ".py",
   "mimetype": "text/x-python",
   "name": "python",
   "nbconvert_exporter": "python",
   "pygments_lexer": "ipython3",
   "version": "3.8.8"
  }
 },
 "nbformat": 4,
 "nbformat_minor": 5
}
